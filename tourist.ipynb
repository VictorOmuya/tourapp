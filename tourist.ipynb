{
 "cells": [
  {
   "cell_type": "code",
   "execution_count": 1,
   "metadata": {},
   "outputs": [],
   "source": [
    "import numpy as np\n",
    "import pandas as pd\n",
    "from sklearn.feature_extraction.text import TfidfVectorizer\n",
    "from sklearn.metrics.pairwise import cosine_similarity\n",
    "from os import listdir\n",
    "from os.path import isfile, join\n",
    "import pickle"
   ]
  },
  {
   "cell_type": "code",
   "execution_count": 2,
   "metadata": {},
   "outputs": [],
   "source": [
    "df = pd.read_excel(\"Project's data.xlsx\")\n",
    "df['Worktime'] = df['Worktime'].fillna(0)\n",
    "df['Worktime'] = df['Worktime'].astype(str)\n",
    "df.fillna(\"-\", inplace = True)"
   ]
  },
  {
   "cell_type": "code",
   "execution_count": 3,
   "metadata": {},
   "outputs": [
    {
     "data": {
      "text/html": [
       "<div>\n",
       "<style scoped>\n",
       "    .dataframe tbody tr th:only-of-type {\n",
       "        vertical-align: middle;\n",
       "    }\n",
       "\n",
       "    .dataframe tbody tr th {\n",
       "        vertical-align: top;\n",
       "    }\n",
       "\n",
       "    .dataframe thead th {\n",
       "        text-align: right;\n",
       "    }\n",
       "</style>\n",
       "<table border=\"1\" class=\"dataframe\">\n",
       "  <thead>\n",
       "    <tr style=\"text-align: right;\">\n",
       "      <th></th>\n",
       "      <th>Number</th>\n",
       "      <th>Region</th>\n",
       "      <th>City</th>\n",
       "      <th>Category</th>\n",
       "      <th>Name of the tourist site</th>\n",
       "      <th>Biaography</th>\n",
       "      <th>Location</th>\n",
       "      <th>Cordinates</th>\n",
       "      <th>Worktime</th>\n",
       "      <th>Website link</th>\n",
       "    </tr>\n",
       "  </thead>\n",
       "  <tbody>\n",
       "    <tr>\n",
       "      <th>0</th>\n",
       "      <td>1</td>\n",
       "      <td>Riyadh</td>\n",
       "      <td>Riyadh</td>\n",
       "      <td>Tourist</td>\n",
       "      <td>Witer-Wonderland</td>\n",
       "      <td>It is one of the most expected attraction of R...</td>\n",
       "      <td>On King Fahad Road, opposite King Abdullah Fin...</td>\n",
       "      <td>27.39641300878481, 36.1311613362808</td>\n",
       "      <td>1234567.0</td>\n",
       "      <td>https://xpressriyadh.com/riyadh-season-winter-...</td>\n",
       "    </tr>\n",
       "    <tr>\n",
       "      <th>1</th>\n",
       "      <td>2</td>\n",
       "      <td>Riyadh</td>\n",
       "      <td>Riyadh</td>\n",
       "      <td>Tourist</td>\n",
       "      <td>Riyadh Zoo</td>\n",
       "      <td>It is a big zoo in Malaz station, it is estapl...</td>\n",
       "      <td>Malaz district, Riyadh</td>\n",
       "      <td>24.675409979746952, 46.737761274275755</td>\n",
       "      <td>234567.0</td>\n",
       "      <td>https://www.google.com/travel/things-to-do?g2l...</td>\n",
       "    </tr>\n",
       "  </tbody>\n",
       "</table>\n",
       "</div>"
      ],
      "text/plain": [
       "   Number  Region    City Category Name of the tourist site   \\\n",
       "0       1  Riyadh  Riyadh  Tourist         Witer-Wonderland    \n",
       "1       2  Riyadh  Riyadh  Tourist                Riyadh Zoo   \n",
       "\n",
       "                                          Biaography  \\\n",
       "0  It is one of the most expected attraction of R...   \n",
       "1  It is a big zoo in Malaz station, it is estapl...   \n",
       "\n",
       "                                            Location  \\\n",
       "0  On King Fahad Road, opposite King Abdullah Fin...   \n",
       "1                            Malaz district, Riyadh    \n",
       "\n",
       "                              Cordinates    Worktime  \\\n",
       "0     27.39641300878481, 36.1311613362808  1234567.0   \n",
       "1  24.675409979746952, 46.737761274275755   234567.0   \n",
       "\n",
       "                                        Website link  \n",
       "0  https://xpressriyadh.com/riyadh-season-winter-...  \n",
       "1  https://www.google.com/travel/things-to-do?g2l...  "
      ]
     },
     "execution_count": 3,
     "metadata": {},
     "output_type": "execute_result"
    }
   ],
   "source": [
    "df.head(2)"
   ]
  },
  {
   "cell_type": "code",
   "execution_count": 4,
   "metadata": {},
   "outputs": [],
   "source": [
    "df = df.replace('Center Point ', 'Center Point')"
   ]
  },
  {
   "cell_type": "code",
   "execution_count": null,
   "metadata": {},
   "outputs": [],
   "source": []
  },
  {
   "cell_type": "code",
   "execution_count": 5,
   "metadata": {},
   "outputs": [
    {
     "name": "stdout",
     "output_type": "stream",
     "text": [
      "<class 'pandas.core.frame.DataFrame'>\n",
      "RangeIndex: 55 entries, 0 to 54\n",
      "Data columns (total 10 columns):\n",
      " #   Column                     Non-Null Count  Dtype \n",
      "---  ------                     --------------  ----- \n",
      " 0   Number                     55 non-null     int64 \n",
      " 1   Region                     55 non-null     object\n",
      " 2   City                       55 non-null     object\n",
      " 3   Category                   55 non-null     object\n",
      " 4   Name of the tourist site   55 non-null     object\n",
      " 5   Biaography                 55 non-null     object\n",
      " 6   Location                   55 non-null     object\n",
      " 7   Cordinates                 55 non-null     object\n",
      " 8   Worktime                   55 non-null     object\n",
      " 9   Website link               55 non-null     object\n",
      "dtypes: int64(1), object(9)\n",
      "memory usage: 4.4+ KB\n"
     ]
    }
   ],
   "source": [
    "df.info()"
   ]
  },
  {
   "cell_type": "code",
   "execution_count": null,
   "metadata": {},
   "outputs": [],
   "source": []
  },
  {
   "cell_type": "code",
   "execution_count": 6,
   "metadata": {},
   "outputs": [],
   "source": [
    "df['Worktime'] = df['Worktime'].fillna(0)\n",
    "df['Worktime'] = df['Worktime'].astype(str)\n",
    "df.fillna(\"-\", inplace = True)"
   ]
  },
  {
   "cell_type": "code",
   "execution_count": null,
   "metadata": {},
   "outputs": [],
   "source": []
  },
  {
   "cell_type": "code",
   "execution_count": 7,
   "metadata": {},
   "outputs": [
    {
     "data": {
      "text/plain": [
       "array(['Tourist', 'Historical', 'Tourist and Historical', 'Islamic'],\n",
       "      dtype=object)"
      ]
     },
     "execution_count": 7,
     "metadata": {},
     "output_type": "execute_result"
    }
   ],
   "source": [
    "df.Category.unique()"
   ]
  },
  {
   "cell_type": "code",
   "execution_count": 8,
   "metadata": {},
   "outputs": [],
   "source": [
    "df['tourist_info'] = df['Name of the tourist site '] + \"; \" +df['Worktime']  + \"; \"+ df['Location'] + \"; \" + df[\"Cordinates \"] + \"; \" + df[\"Biaography\"]  + \"; \" + df['Website link']"
   ]
  },
  {
   "cell_type": "code",
   "execution_count": 9,
   "metadata": {},
   "outputs": [
    {
     "data": {
      "text/html": [
       "<div>\n",
       "<style scoped>\n",
       "    .dataframe tbody tr th:only-of-type {\n",
       "        vertical-align: middle;\n",
       "    }\n",
       "\n",
       "    .dataframe tbody tr th {\n",
       "        vertical-align: top;\n",
       "    }\n",
       "\n",
       "    .dataframe thead th {\n",
       "        text-align: right;\n",
       "    }\n",
       "</style>\n",
       "<table border=\"1\" class=\"dataframe\">\n",
       "  <thead>\n",
       "    <tr style=\"text-align: right;\">\n",
       "      <th></th>\n",
       "      <th>Number</th>\n",
       "      <th>Region</th>\n",
       "      <th>City</th>\n",
       "      <th>Category</th>\n",
       "      <th>Name of the tourist site</th>\n",
       "      <th>Biaography</th>\n",
       "      <th>Location</th>\n",
       "      <th>Cordinates</th>\n",
       "      <th>Worktime</th>\n",
       "      <th>Website link</th>\n",
       "      <th>tourist_info</th>\n",
       "    </tr>\n",
       "  </thead>\n",
       "  <tbody>\n",
       "    <tr>\n",
       "      <th>0</th>\n",
       "      <td>1</td>\n",
       "      <td>Riyadh</td>\n",
       "      <td>Riyadh</td>\n",
       "      <td>Tourist</td>\n",
       "      <td>Witer-Wonderland</td>\n",
       "      <td>It is one of the most expected attraction of R...</td>\n",
       "      <td>On King Fahad Road, opposite King Abdullah Fin...</td>\n",
       "      <td>27.39641300878481, 36.1311613362808</td>\n",
       "      <td>1234567.0</td>\n",
       "      <td>https://xpressriyadh.com/riyadh-season-winter-...</td>\n",
       "      <td>Witer-Wonderland ; 1234567.0; On King Fahad Ro...</td>\n",
       "    </tr>\n",
       "    <tr>\n",
       "      <th>1</th>\n",
       "      <td>2</td>\n",
       "      <td>Riyadh</td>\n",
       "      <td>Riyadh</td>\n",
       "      <td>Tourist</td>\n",
       "      <td>Riyadh Zoo</td>\n",
       "      <td>It is a big zoo in Malaz station, it is estapl...</td>\n",
       "      <td>Malaz district, Riyadh</td>\n",
       "      <td>24.675409979746952, 46.737761274275755</td>\n",
       "      <td>234567.0</td>\n",
       "      <td>https://www.google.com/travel/things-to-do?g2l...</td>\n",
       "      <td>Riyadh Zoo; 234567.0;  Malaz district, Riyadh ...</td>\n",
       "    </tr>\n",
       "  </tbody>\n",
       "</table>\n",
       "</div>"
      ],
      "text/plain": [
       "   Number  Region    City Category Name of the tourist site   \\\n",
       "0       1  Riyadh  Riyadh  Tourist         Witer-Wonderland    \n",
       "1       2  Riyadh  Riyadh  Tourist                Riyadh Zoo   \n",
       "\n",
       "                                          Biaography  \\\n",
       "0  It is one of the most expected attraction of R...   \n",
       "1  It is a big zoo in Malaz station, it is estapl...   \n",
       "\n",
       "                                            Location  \\\n",
       "0  On King Fahad Road, opposite King Abdullah Fin...   \n",
       "1                            Malaz district, Riyadh    \n",
       "\n",
       "                              Cordinates    Worktime  \\\n",
       "0     27.39641300878481, 36.1311613362808  1234567.0   \n",
       "1  24.675409979746952, 46.737761274275755   234567.0   \n",
       "\n",
       "                                        Website link  \\\n",
       "0  https://xpressriyadh.com/riyadh-season-winter-...   \n",
       "1  https://www.google.com/travel/things-to-do?g2l...   \n",
       "\n",
       "                                        tourist_info  \n",
       "0  Witer-Wonderland ; 1234567.0; On King Fahad Ro...  \n",
       "1  Riyadh Zoo; 234567.0;  Malaz district, Riyadh ...  "
      ]
     },
     "execution_count": 9,
     "metadata": {},
     "output_type": "execute_result"
    }
   ],
   "source": [
    "df.head(2)"
   ]
  },
  {
   "cell_type": "code",
   "execution_count": 10,
   "metadata": {},
   "outputs": [
    {
     "data": {
      "text/html": [
       "<div>\n",
       "<style scoped>\n",
       "    .dataframe tbody tr th:only-of-type {\n",
       "        vertical-align: middle;\n",
       "    }\n",
       "\n",
       "    .dataframe tbody tr th {\n",
       "        vertical-align: top;\n",
       "    }\n",
       "\n",
       "    .dataframe thead th {\n",
       "        text-align: right;\n",
       "    }\n",
       "</style>\n",
       "<table border=\"1\" class=\"dataframe\">\n",
       "  <thead>\n",
       "    <tr style=\"text-align: right;\">\n",
       "      <th></th>\n",
       "      <th>Unnamed: 0</th>\n",
       "      <th>Age</th>\n",
       "      <th>Sex</th>\n",
       "      <th>Ethnic</th>\n",
       "      <th>Qualification</th>\n",
       "      <th>career</th>\n",
       "      <th>Status</th>\n",
       "    </tr>\n",
       "  </thead>\n",
       "  <tbody>\n",
       "    <tr>\n",
       "      <th>0</th>\n",
       "      <td>0</td>\n",
       "      <td>4</td>\n",
       "      <td>1</td>\n",
       "      <td>2</td>\n",
       "      <td>3</td>\n",
       "      <td>7</td>\n",
       "      <td>0</td>\n",
       "    </tr>\n",
       "    <tr>\n",
       "      <th>1</th>\n",
       "      <td>1</td>\n",
       "      <td>3</td>\n",
       "      <td>0</td>\n",
       "      <td>2</td>\n",
       "      <td>4</td>\n",
       "      <td>3</td>\n",
       "      <td>0</td>\n",
       "    </tr>\n",
       "  </tbody>\n",
       "</table>\n",
       "</div>"
      ],
      "text/plain": [
       "   Unnamed: 0  Age  Sex  Ethnic  Qualification  career  Status\n",
       "0           0    4    1       2              3       7       0\n",
       "1           1    3    0       2              4       3       0"
      ]
     },
     "execution_count": 10,
     "metadata": {},
     "output_type": "execute_result"
    }
   ],
   "source": [
    "test = pd.read_csv(r\"test.csv\")\n",
    "test.head(2)"
   ]
  },
  {
   "cell_type": "code",
   "execution_count": 11,
   "metadata": {},
   "outputs": [
    {
     "ename": "FileNotFoundError",
     "evalue": "[Errno 2] No such file or directory: 'tourist_model1.sav'",
     "output_type": "error",
     "traceback": [
      "\u001b[1;31m---------------------------------------------------------------------------\u001b[0m",
      "\u001b[1;31mFileNotFoundError\u001b[0m                         Traceback (most recent call last)",
      "\u001b[1;32m~\\AppData\\Local\\Temp/ipykernel_12804/2311467850.py\u001b[0m in \u001b[0;36m<module>\u001b[1;34m\u001b[0m\n\u001b[0;32m      1\u001b[0m \u001b[0mmodel\u001b[0m \u001b[1;33m=\u001b[0m \u001b[1;34m'tourist_model1.sav'\u001b[0m\u001b[1;33m\u001b[0m\u001b[1;33m\u001b[0m\u001b[0m\n\u001b[1;32m----> 2\u001b[1;33m \u001b[1;32mwith\u001b[0m \u001b[0mopen\u001b[0m\u001b[1;33m(\u001b[0m\u001b[0mmodel\u001b[0m\u001b[1;33m,\u001b[0m \u001b[1;34m'rb'\u001b[0m\u001b[1;33m)\u001b[0m \u001b[1;32mas\u001b[0m \u001b[0mfile\u001b[0m\u001b[1;33m:\u001b[0m\u001b[1;33m\u001b[0m\u001b[1;33m\u001b[0m\u001b[0m\n\u001b[0m\u001b[0;32m      3\u001b[0m     \u001b[0mthe_model\u001b[0m \u001b[1;33m=\u001b[0m \u001b[0mpickle\u001b[0m\u001b[1;33m.\u001b[0m\u001b[0mload\u001b[0m\u001b[1;33m(\u001b[0m\u001b[0mfile\u001b[0m\u001b[1;33m)\u001b[0m\u001b[1;33m\u001b[0m\u001b[1;33m\u001b[0m\u001b[0m\n",
      "\u001b[1;31mFileNotFoundError\u001b[0m: [Errno 2] No such file or directory: 'tourist_model1.sav'"
     ]
    }
   ],
   "source": [
    "model = 'tourist_model1.sav'\n",
    "with open(model, 'rb') as file:\n",
    "    the_model = pickle.load(file)"
   ]
  },
  {
   "cell_type": "code",
   "execution_count": 18,
   "metadata": {},
   "outputs": [],
   "source": [
    "pred = the_model.predict(test)"
   ]
  },
  {
   "cell_type": "code",
   "execution_count": 24,
   "metadata": {},
   "outputs": [],
   "source": [
    "if pred[-1] == 0:\n",
    "    inter = 'Historical'\n",
    "elif pred[-1] == 1:\n",
    "    inter = 'Tourist'\n",
    "elif pred[-1] == 2:\n",
    "    inter = 'Islamic'\n",
    "elif pred[-1] == 3:\n",
    "    inter = 'Historical and Islamic'"
   ]
  },
  {
   "cell_type": "code",
   "execution_count": 25,
   "metadata": {},
   "outputs": [],
   "source": [
    "reg = inter"
   ]
  },
  {
   "cell_type": "code",
   "execution_count": 26,
   "metadata": {},
   "outputs": [],
   "source": [
    "dff = df.loc[df['Category'] == reg]"
   ]
  },
  {
   "cell_type": "code",
   "execution_count": 27,
   "metadata": {},
   "outputs": [
    {
     "data": {
      "text/html": [
       "<div>\n",
       "<style scoped>\n",
       "    .dataframe tbody tr th:only-of-type {\n",
       "        vertical-align: middle;\n",
       "    }\n",
       "\n",
       "    .dataframe tbody tr th {\n",
       "        vertical-align: top;\n",
       "    }\n",
       "\n",
       "    .dataframe thead th {\n",
       "        text-align: right;\n",
       "    }\n",
       "</style>\n",
       "<table border=\"1\" class=\"dataframe\">\n",
       "  <thead>\n",
       "    <tr style=\"text-align: right;\">\n",
       "      <th></th>\n",
       "      <th>Number</th>\n",
       "      <th>Region</th>\n",
       "      <th>City</th>\n",
       "      <th>Category</th>\n",
       "      <th>Name of the tourist site</th>\n",
       "      <th>Biaography</th>\n",
       "      <th>Location</th>\n",
       "      <th>Cordinates</th>\n",
       "      <th>Worktime</th>\n",
       "      <th>Website link</th>\n",
       "      <th>tourist_info</th>\n",
       "    </tr>\n",
       "  </thead>\n",
       "  <tbody>\n",
       "    <tr>\n",
       "      <th>3</th>\n",
       "      <td>4</td>\n",
       "      <td>Riyadh</td>\n",
       "      <td>Riyadh</td>\n",
       "      <td>Historical</td>\n",
       "      <td>Murabba Historical Palace</td>\n",
       "      <td>It is esaplished in Riyadh city and it is the ...</td>\n",
       "      <td>-</td>\n",
       "      <td>24.64669671227019, 46.70976540837483</td>\n",
       "      <td>1234567.0</td>\n",
       "      <td>https://www.google.com/travel/things-to-do/see...</td>\n",
       "      <td>Murabba Historical Palace; 1234567.0; -; 24.64...</td>\n",
       "    </tr>\n",
       "    <tr>\n",
       "      <th>5</th>\n",
       "      <td>6</td>\n",
       "      <td>Alqassim</td>\n",
       "      <td>Buraidah</td>\n",
       "      <td>Historical</td>\n",
       "      <td>Buraidah Museum</td>\n",
       "      <td>It is a museum, it has an amazing history trad...</td>\n",
       "      <td>Al Safra', 3144 King Abdulaziz Rd, 6165، Bura...</td>\n",
       "      <td>26.350382066300924, 43.95776812983288</td>\n",
       "      <td>23456.0</td>\n",
       "      <td>https://www.google.com/travel/things-to-do?g2l...</td>\n",
       "      <td>Buraidah Museum; 23456.0;  Al Safra', 3144 Kin...</td>\n",
       "    </tr>\n",
       "    <tr>\n",
       "      <th>6</th>\n",
       "      <td>7</td>\n",
       "      <td>Alqassim</td>\n",
       "      <td>Alqassim</td>\n",
       "      <td>Historical</td>\n",
       "      <td>Aloqilat Museum</td>\n",
       "      <td>It is a hostical museum</td>\n",
       "      <td>418, Wahtan, Buraydah 52342, Alqassim</td>\n",
       "      <td>26.29890486877519, 43.99479656052028</td>\n",
       "      <td>1234567.0</td>\n",
       "      <td>https://www.google.com/travel/things-to-do?g2l...</td>\n",
       "      <td>Aloqilat Museum; 1234567.0; 418, Wahtan, Buray...</td>\n",
       "    </tr>\n",
       "    <tr>\n",
       "      <th>16</th>\n",
       "      <td>17</td>\n",
       "      <td>Almadinah</td>\n",
       "      <td>Almadinah</td>\n",
       "      <td>Historical</td>\n",
       "      <td>Dar Al Madinah Museum</td>\n",
       "      <td>Al-Madinah Museum is a museum in Al-Madinah, S...</td>\n",
       "      <td>Safwan Ibn Malik Al Tamimi, Al Mabuth, Medina ...</td>\n",
       "      <td>24.477326982218734, 39.688198920011004</td>\n",
       "      <td>123457.0</td>\n",
       "      <td>https://www.google.com/travel/things-to-do?g2l...</td>\n",
       "      <td>Dar Al Madinah Museum; 123457.0; Safwan Ibn Ma...</td>\n",
       "    </tr>\n",
       "    <tr>\n",
       "      <th>18</th>\n",
       "      <td>19</td>\n",
       "      <td>Hail</td>\n",
       "      <td>Hail</td>\n",
       "      <td>Historical</td>\n",
       "      <td>A'arif fort</td>\n",
       "      <td>It's a historical palace belongs to 12th to 14...</td>\n",
       "      <td>Ar Riyadh, Labdah, Hail 55428</td>\n",
       "      <td>27.517251469871194, 41.70392110843003</td>\n",
       "      <td>1234567.0</td>\n",
       "      <td>https://www.google.com/travel/things-to-do?g2l...</td>\n",
       "      <td>A'arif fort; 1234567.0; Ar Riyadh, Labdah, Hai...</td>\n",
       "    </tr>\n",
       "    <tr>\n",
       "      <th>19</th>\n",
       "      <td>20</td>\n",
       "      <td>Hail</td>\n",
       "      <td>Hail</td>\n",
       "      <td>Historical</td>\n",
       "      <td>Hail Local Heritage Museum</td>\n",
       "      <td>A museum located to the south of the historic ...</td>\n",
       "      <td>Labdah, Hail 55428</td>\n",
       "      <td>27.51630923222179, 41.70292333170843</td>\n",
       "      <td>1234567.0</td>\n",
       "      <td>https://mytrip.sa/tour/i-found-footprints-of-t...</td>\n",
       "      <td>Hail Local Heritage Museum; 1234567.0; Labdah,...</td>\n",
       "    </tr>\n",
       "    <tr>\n",
       "      <th>22</th>\n",
       "      <td>23</td>\n",
       "      <td>Aljowf</td>\n",
       "      <td>Aljowf</td>\n",
       "      <td>Historical</td>\n",
       "      <td>Marid Castle</td>\n",
       "      <td>Marid Castle is a historic military fortress l...</td>\n",
       "      <td>Alkhaldiyah, King Saud Rd, Dumah Al Jandal 74...</td>\n",
       "      <td>29.81153152663243, 39.86789612567574</td>\n",
       "      <td>1234567.0</td>\n",
       "      <td>https://www.google.com/travel/things-to-do/see...</td>\n",
       "      <td>Marid Castle; 1234567.0;  Alkhaldiyah, King Sa...</td>\n",
       "    </tr>\n",
       "    <tr>\n",
       "      <th>23</th>\n",
       "      <td>24</td>\n",
       "      <td>Aljowf</td>\n",
       "      <td>Al Qurayyat</td>\n",
       "      <td>Historical</td>\n",
       "      <td>Al-Saidi Castle</td>\n",
       "      <td>Its splendid top places give character to the ...</td>\n",
       "      <td>9FXW+J7 Am Al-Ajras, Al Qurayyat 77413</td>\n",
       "      <td>31.4846196679491, 37.68699131239066</td>\n",
       "      <td>12345.0</td>\n",
       "      <td>https://www.google.com/travel/things-to-do/see...</td>\n",
       "      <td>Al-Saidi Castle; 12345.0; 9FXW+J7 Am Al-Ajras,...</td>\n",
       "    </tr>\n",
       "    <tr>\n",
       "      <th>28</th>\n",
       "      <td>29</td>\n",
       "      <td>Tabuk</td>\n",
       "      <td>Tabuk</td>\n",
       "      <td>Historical</td>\n",
       "      <td>Tabuk castle</td>\n",
       "      <td>This castle is one of the monuments of the Ott...</td>\n",
       "      <td>8691 , Uthman bin Affan Rd, Tabuk 47914 3125</td>\n",
       "      <td>28.382894526023936, 36.556658320087266</td>\n",
       "      <td>1234567.0</td>\n",
       "      <td>https://www.google.com/travel/things-to-do?g2l...</td>\n",
       "      <td>Tabuk castle; 1234567.0; 8691 , Uthman bin Aff...</td>\n",
       "    </tr>\n",
       "    <tr>\n",
       "      <th>33</th>\n",
       "      <td>34</td>\n",
       "      <td>Aseer</td>\n",
       "      <td>Abha</td>\n",
       "      <td>Historical</td>\n",
       "      <td>Al Muftaha Archaeological It is a historical M...</td>\n",
       "      <td>-</td>\n",
       "      <td>Al Muftaha Rd, 2919 - 7467 district، Abha 62521</td>\n",
       "      <td>18.21304488830541, 42.49648659663685</td>\n",
       "      <td>0.0</td>\n",
       "      <td>https://www.google.com/travel/things-to-do?g2l...</td>\n",
       "      <td>Al Muftaha Archaeological It is a historical M...</td>\n",
       "    </tr>\n",
       "    <tr>\n",
       "      <th>37</th>\n",
       "      <td>38</td>\n",
       "      <td>Jazan</td>\n",
       "      <td>Jazan</td>\n",
       "      <td>Historical</td>\n",
       "      <td>Turks Castle</td>\n",
       "      <td>Turks Castle is an ancient castle that sits on...</td>\n",
       "      <td>Alqal'a, Jazan 82714</td>\n",
       "      <td>16.888167048193875, 42.54623745614579</td>\n",
       "      <td>1234567.0</td>\n",
       "      <td>https://mytrip.sa/tour/dokany-castle/</td>\n",
       "      <td>Turks Castle; 1234567.0; Alqal'a, Jazan 82714;...</td>\n",
       "    </tr>\n",
       "    <tr>\n",
       "      <th>41</th>\n",
       "      <td>42</td>\n",
       "      <td>Najran</td>\n",
       "      <td>Najran</td>\n",
       "      <td>Historical</td>\n",
       "      <td>Najran Museum</td>\n",
       "      <td>To promote culture and local heritage, the Sau...</td>\n",
       "      <td>Prince Sultan bin AbdulAziz Rd 3785 ، Najran ...</td>\n",
       "      <td>17.48042400905069, 44.175583930697904</td>\n",
       "      <td>1234567.0</td>\n",
       "      <td>https://www.google.com/travel/things-to-do?g2l...</td>\n",
       "      <td>Najran Museum; 1234567.0;  Prince Sultan bin A...</td>\n",
       "    </tr>\n",
       "    <tr>\n",
       "      <th>42</th>\n",
       "      <td>43</td>\n",
       "      <td>Najran</td>\n",
       "      <td>Najran</td>\n",
       "      <td>Historical</td>\n",
       "      <td>Aan Palace</td>\n",
       "      <td>Al-Aan Palace overlooks the famous Wadi Najran...</td>\n",
       "      <td>Prince Naif bin AbdulAziz Rd 7158، Aba Lasaud...</td>\n",
       "      <td>19.11238472629342, 44.13406190182935</td>\n",
       "      <td>1234567.0</td>\n",
       "      <td>https://www.arabnews.com/node/1590706/saudi-ar...</td>\n",
       "      <td>Aan Palace ; 1234567.0;  Prince Naif bin Abdul...</td>\n",
       "    </tr>\n",
       "    <tr>\n",
       "      <th>46</th>\n",
       "      <td>47</td>\n",
       "      <td>AlBahah</td>\n",
       "      <td>albahah</td>\n",
       "      <td>Historical</td>\n",
       "      <td>Al Baha Museum</td>\n",
       "      <td>The Al Baha museum will propose a permanent ex...</td>\n",
       "      <td>2696 7436 Saudi Arabia, Al Hazim 65521</td>\n",
       "      <td>20.025388785439528, 41.44611120275687</td>\n",
       "      <td>0.0</td>\n",
       "      <td>https://www.google.com/travel/things-to-do?g2l...</td>\n",
       "      <td>Al Baha Museum; 0.0; 2696 7436 Saudi Arabia, A...</td>\n",
       "    </tr>\n",
       "  </tbody>\n",
       "</table>\n",
       "</div>"
      ],
      "text/plain": [
       "    Number     Region         City    Category  \\\n",
       "3        4     Riyadh       Riyadh  Historical   \n",
       "5        6   Alqassim     Buraidah  Historical   \n",
       "6        7   Alqassim     Alqassim  Historical   \n",
       "16      17  Almadinah    Almadinah  Historical   \n",
       "18      19       Hail         Hail  Historical   \n",
       "19      20       Hail         Hail  Historical   \n",
       "22      23     Aljowf       Aljowf  Historical   \n",
       "23      24     Aljowf  Al Qurayyat  Historical   \n",
       "28      29      Tabuk        Tabuk  Historical   \n",
       "33      34      Aseer        Abha   Historical   \n",
       "37      38      Jazan        Jazan  Historical   \n",
       "41      42     Najran       Najran  Historical   \n",
       "42      43     Najran       Najran  Historical   \n",
       "46      47    AlBahah      albahah  Historical   \n",
       "\n",
       "                            Name of the tourist site   \\\n",
       "3                           Murabba Historical Palace   \n",
       "5                                     Buraidah Museum   \n",
       "6                                     Aloqilat Museum   \n",
       "16                              Dar Al Madinah Museum   \n",
       "18                                        A'arif fort   \n",
       "19                         Hail Local Heritage Museum   \n",
       "22                                       Marid Castle   \n",
       "23                                    Al-Saidi Castle   \n",
       "28                                       Tabuk castle   \n",
       "33  Al Muftaha Archaeological It is a historical M...   \n",
       "37                                       Turks Castle   \n",
       "41                                      Najran Museum   \n",
       "42                                        Aan Palace    \n",
       "46                                     Al Baha Museum   \n",
       "\n",
       "                                           Biaography  \\\n",
       "3   It is esaplished in Riyadh city and it is the ...   \n",
       "5   It is a museum, it has an amazing history trad...   \n",
       "6                             It is a hostical museum   \n",
       "16  Al-Madinah Museum is a museum in Al-Madinah, S...   \n",
       "18  It's a historical palace belongs to 12th to 14...   \n",
       "19  A museum located to the south of the historic ...   \n",
       "22  Marid Castle is a historic military fortress l...   \n",
       "23  Its splendid top places give character to the ...   \n",
       "28  This castle is one of the monuments of the Ott...   \n",
       "33                                                  -   \n",
       "37  Turks Castle is an ancient castle that sits on...   \n",
       "41  To promote culture and local heritage, the Sau...   \n",
       "42  Al-Aan Palace overlooks the famous Wadi Najran...   \n",
       "46  The Al Baha museum will propose a permanent ex...   \n",
       "\n",
       "                                             Location  \\\n",
       "3                                                   -   \n",
       "5    Al Safra', 3144 King Abdulaziz Rd, 6165، Bura...   \n",
       "6               418, Wahtan, Buraydah 52342, Alqassim   \n",
       "16  Safwan Ibn Malik Al Tamimi, Al Mabuth, Medina ...   \n",
       "18                      Ar Riyadh, Labdah, Hail 55428   \n",
       "19                                 Labdah, Hail 55428   \n",
       "22   Alkhaldiyah, King Saud Rd, Dumah Al Jandal 74...   \n",
       "23             9FXW+J7 Am Al-Ajras, Al Qurayyat 77413   \n",
       "28       8691 , Uthman bin Affan Rd, Tabuk 47914 3125   \n",
       "33    Al Muftaha Rd, 2919 - 7467 district، Abha 62521   \n",
       "37                               Alqal'a, Jazan 82714   \n",
       "41   Prince Sultan bin AbdulAziz Rd 3785 ، Najran ...   \n",
       "42   Prince Naif bin AbdulAziz Rd 7158، Aba Lasaud...   \n",
       "46             2696 7436 Saudi Arabia, Al Hazim 65521   \n",
       "\n",
       "                               Cordinates    Worktime  \\\n",
       "3     24.64669671227019, 46.70976540837483  1234567.0   \n",
       "5    26.350382066300924, 43.95776812983288    23456.0   \n",
       "6     26.29890486877519, 43.99479656052028  1234567.0   \n",
       "16  24.477326982218734, 39.688198920011004   123457.0   \n",
       "18   27.517251469871194, 41.70392110843003  1234567.0   \n",
       "19    27.51630923222179, 41.70292333170843  1234567.0   \n",
       "22    29.81153152663243, 39.86789612567574  1234567.0   \n",
       "23     31.4846196679491, 37.68699131239066    12345.0   \n",
       "28  28.382894526023936, 36.556658320087266  1234567.0   \n",
       "33    18.21304488830541, 42.49648659663685        0.0   \n",
       "37   16.888167048193875, 42.54623745614579  1234567.0   \n",
       "41   17.48042400905069, 44.175583930697904  1234567.0   \n",
       "42    19.11238472629342, 44.13406190182935  1234567.0   \n",
       "46   20.025388785439528, 41.44611120275687        0.0   \n",
       "\n",
       "                                         Website link  \\\n",
       "3   https://www.google.com/travel/things-to-do/see...   \n",
       "5   https://www.google.com/travel/things-to-do?g2l...   \n",
       "6   https://www.google.com/travel/things-to-do?g2l...   \n",
       "16  https://www.google.com/travel/things-to-do?g2l...   \n",
       "18  https://www.google.com/travel/things-to-do?g2l...   \n",
       "19  https://mytrip.sa/tour/i-found-footprints-of-t...   \n",
       "22  https://www.google.com/travel/things-to-do/see...   \n",
       "23  https://www.google.com/travel/things-to-do/see...   \n",
       "28  https://www.google.com/travel/things-to-do?g2l...   \n",
       "33  https://www.google.com/travel/things-to-do?g2l...   \n",
       "37              https://mytrip.sa/tour/dokany-castle/   \n",
       "41  https://www.google.com/travel/things-to-do?g2l...   \n",
       "42  https://www.arabnews.com/node/1590706/saudi-ar...   \n",
       "46  https://www.google.com/travel/things-to-do?g2l...   \n",
       "\n",
       "                                         tourist_info  \n",
       "3   Murabba Historical Palace; 1234567.0; -; 24.64...  \n",
       "5   Buraidah Museum; 23456.0;  Al Safra', 3144 Kin...  \n",
       "6   Aloqilat Museum; 1234567.0; 418, Wahtan, Buray...  \n",
       "16  Dar Al Madinah Museum; 123457.0; Safwan Ibn Ma...  \n",
       "18  A'arif fort; 1234567.0; Ar Riyadh, Labdah, Hai...  \n",
       "19  Hail Local Heritage Museum; 1234567.0; Labdah,...  \n",
       "22  Marid Castle; 1234567.0;  Alkhaldiyah, King Sa...  \n",
       "23  Al-Saidi Castle; 12345.0; 9FXW+J7 Am Al-Ajras,...  \n",
       "28  Tabuk castle; 1234567.0; 8691 , Uthman bin Aff...  \n",
       "33  Al Muftaha Archaeological It is a historical M...  \n",
       "37  Turks Castle; 1234567.0; Alqal'a, Jazan 82714;...  \n",
       "41  Najran Museum; 1234567.0;  Prince Sultan bin A...  \n",
       "42  Aan Palace ; 1234567.0;  Prince Naif bin Abdul...  \n",
       "46  Al Baha Museum; 0.0; 2696 7436 Saudi Arabia, A...  "
      ]
     },
     "execution_count": 27,
     "metadata": {},
     "output_type": "execute_result"
    }
   ],
   "source": [
    "dff"
   ]
  },
  {
   "cell_type": "code",
   "execution_count": 29,
   "metadata": {},
   "outputs": [
    {
     "data": {
      "text/plain": [
       "'Murabba Historical Palace; 1234567.0; -; 24.64669671227019, 46.70976540837483; It is esaplished in Riyadh city and it is the first palace which located outside the walls of the old city. It is called Murabba palace because its square formed by  400 X 400meters. ; https://www.google.com/travel/things-to-do/see-all?g2lb=2502548%2C2503780%2C4258168%2C4270442%2C4306835%2C4317915%2C4371335%2C4401769%2C4419364%2C4429192%2C4482438%2C4486153%2C4509341%2C4515404%2C4533882%2C4536454%2C4554490%2C4562266%2C4270859%2C4284970%2C4291517&hl=en-SA&gl=sa&ssta=1&dest_mid=%2Fm%2F0dlm_&dest_state_type=sattd&dest_src=ts&sa=X&ved=2ahUKEwiWxe_XkurwAhXthf0HHcPCCNgQuL0BMAF6BAgDEBo&tcfs=EhIKCC9tLzBkbG1fEgZSaXlhZGg'"
      ]
     },
     "execution_count": 29,
     "metadata": {},
     "output_type": "execute_result"
    }
   ],
   "source": [
    "dff['tourist_info'].values[0]"
   ]
  },
  {
   "cell_type": "code",
   "execution_count": 30,
   "metadata": {},
   "outputs": [
    {
     "data": {
      "text/plain": [
       "(14, 1)"
      ]
     },
     "execution_count": 30,
     "metadata": {},
     "output_type": "execute_result"
    }
   ],
   "source": [
    "tf = TfidfVectorizer(analyzer=\"word\", ngram_range=(1,4), min_df=0, stop_words='english')\n",
    "tfidf_matrix = tf.fit_transform(dff['Category'])\n",
    "tfidf_matrix.shape"
   ]
  },
  {
   "cell_type": "raw",
   "metadata": {},
   "source": []
  },
  {
   "cell_type": "code",
   "execution_count": 31,
   "metadata": {},
   "outputs": [
    {
     "data": {
      "text/plain": [
       "array([[1., 1., 1., 1.],\n",
       "       [1., 1., 1., 1.],\n",
       "       [1., 1., 1., 1.],\n",
       "       [1., 1., 1., 1.]])"
      ]
     },
     "execution_count": 31,
     "metadata": {},
     "output_type": "execute_result"
    }
   ],
   "source": [
    "cosine_sim = cosine_similarity(tfidf_matrix, tfidf_matrix)\n",
    "cosine_sim[:4, :4]"
   ]
  },
  {
   "cell_type": "code",
   "execution_count": 32,
   "metadata": {},
   "outputs": [],
   "source": [
    "tourist_info = dff['tourist_info']\n",
    "indices = pd.Series(dff.index, index= dff['tourist_info'])"
   ]
  },
  {
   "cell_type": "code",
   "execution_count": 33,
   "metadata": {},
   "outputs": [],
   "source": [
    "def recommend(tour):\n",
    "    idx = indices[tour]\n",
    "    sim_scores = list(enumerate(cosine_sim[0]))\n",
    "    sim_scores = sorted(sim_scores, key = lambda x: x[1], reverse= True)\n",
    "    sim_scores = sim_scores[1:21]\n",
    "    dff_indices =[i[0] for i in sim_scores]\n",
    "    return tourist_info.iloc[dff_indices]"
   ]
  },
  {
   "cell_type": "code",
   "execution_count": 34,
   "metadata": {},
   "outputs": [
    {
     "data": {
      "text/plain": [
       "5     Buraidah Museum; 23456.0;  Al Safra', 3144 Kin...\n",
       "6     Aloqilat Museum; 1234567.0; 418, Wahtan, Buray...\n",
       "16    Dar Al Madinah Museum; 123457.0; Safwan Ibn Ma...\n",
       "18    A'arif fort; 1234567.0; Ar Riyadh, Labdah, Hai...\n",
       "19    Hail Local Heritage Museum; 1234567.0; Labdah,...\n",
       "22    Marid Castle; 1234567.0;  Alkhaldiyah, King Sa...\n",
       "23    Al-Saidi Castle; 12345.0; 9FXW+J7 Am Al-Ajras,...\n",
       "28    Tabuk castle; 1234567.0; 8691 , Uthman bin Aff...\n",
       "33    Al Muftaha Archaeological It is a historical M...\n",
       "37    Turks Castle; 1234567.0; Alqal'a, Jazan 82714;...\n",
       "41    Najran Museum; 1234567.0;  Prince Sultan bin A...\n",
       "42    Aan Palace ; 1234567.0;  Prince Naif bin Abdul...\n",
       "46    Al Baha Museum; 0.0; 2696 7436 Saudi Arabia, A...\n",
       "Name: tourist_info, dtype: object"
      ]
     },
     "execution_count": 34,
     "metadata": {},
     "output_type": "execute_result"
    }
   ],
   "source": [
    "rec = recommend(dff['tourist_info'].values[0])\n",
    "rec"
   ]
  },
  {
   "cell_type": "code",
   "execution_count": 35,
   "metadata": {},
   "outputs": [],
   "source": [
    "num = np.arange(len(rec))\n",
    "num = num[0:]+1\n",
    "data = {'Number': num, 'tourist_info':rec}"
   ]
  },
  {
   "cell_type": "code",
   "execution_count": 36,
   "metadata": {},
   "outputs": [],
   "source": [
    "rec = pd.DataFrame(data)"
   ]
  },
  {
   "cell_type": "code",
   "execution_count": 37,
   "metadata": {},
   "outputs": [],
   "source": [
    "new_df = pd.merge(dff, rec, on=['tourist_info'], how='inner')"
   ]
  },
  {
   "cell_type": "code",
   "execution_count": null,
   "metadata": {},
   "outputs": [],
   "source": []
  },
  {
   "cell_type": "code",
   "execution_count": 38,
   "metadata": {},
   "outputs": [],
   "source": [
    "needed = new_df[['Region', 'Category', 'Name of the tourist site ', 'Biaography',\\\n",
    "                 'Location', 'Cordinates ', 'Worktime', 'Website link']]"
   ]
  },
  {
   "cell_type": "code",
   "execution_count": 39,
   "metadata": {},
   "outputs": [
    {
     "data": {
      "text/plain": [
       "13"
      ]
     },
     "execution_count": 39,
     "metadata": {},
     "output_type": "execute_result"
    }
   ],
   "source": [
    "len(needed)"
   ]
  },
  {
   "cell_type": "code",
   "execution_count": null,
   "metadata": {},
   "outputs": [],
   "source": []
  },
  {
   "cell_type": "code",
   "execution_count": 40,
   "metadata": {},
   "outputs": [],
   "source": [
    "from collections import Counter\n",
    "mypath = \"img\"\n",
    "new_a = []\n",
    "new_img = []\n",
    "onlyfile = [f for f in listdir(mypath) if isfile(join(mypath, f))]\n",
    "for a in onlyfile:\n",
    "    a = (a[0:-6])\n",
    "    a = ([a])\n",
    "    new_a.append(a)"
   ]
  },
  {
   "cell_type": "code",
   "execution_count": 41,
   "metadata": {},
   "outputs": [
    {
     "name": "stdout",
     "output_type": "stream",
     "text": [
      "['The Green Dome', 'Winter- Wonderland', 'Al Masjid an Nabawi', 'Al Khanafah Wildlife Sanctuary', 'Buraidah Museum', 'Mount Arafat', \"A'arif fort \", '20190627_190441 ', 'Aloqilat Museum', 'Center Point ', 'Center Point', 'Zaabal Castle', 'Abraj Al-Bait Towers', 'Dar Al Madinah Museum', 'Dar Al Madinah Museum ', 'Prince Saud Bin Abdul Mohsen Park', 'Olive Garden', 'Al Musawkaf Market', 'Al Tawba Mosque', 'Al-Saidi Castle', 'Marid Castle', 'Masjed Quba', 'Tabuk castle ', 'Tabuk Fortress', 'Masjid al-Haram', 'Rajajil Columns ', 'King Abdullah Park', 'Winter- Wonderlan', 'Tabuk Fortress ', 'Tabuk castle', 'Uhud Mountain', 'Winter-Wonderla', 'Riyadh Zoo', \"A'arif fort\", 'Murabba Historical Palace', 'Kaaba', 'Hail Local Heritage Museum']\n"
     ]
    }
   ],
   "source": [
    "flatlist=[element for sublist in new_a for element in sublist]\n",
    "a = list(set(flatlist))\n",
    "print(a)"
   ]
  },
  {
   "cell_type": "code",
   "execution_count": 107,
   "metadata": {},
   "outputs": [
    {
     "data": {
      "text/plain": [
       "array(['Riyadh Zoo 2.jpg', 'King Abdullah Park 2.jpg',\n",
       "       'Center Point 2.jpg', 'Al Musawkaf Market 2.jpg',\n",
       "       'Abraj Al-Bait Towers 2.jpg', 'Uhud Mountain 2.jpg',\n",
       "       'The Green Dome 2.jpg', 'Prince Saud Bin Abdul Mohsen Park 2.jpg',\n",
       "       'Olive Garden 2.jpg', 'Al Khanafah Wildlife Sanctuary 2.jpg',\n",
       "       'Tabuk Fortress 2.jpg', 'At-Taysiyah Natural Reserve 2.jpg',\n",
       "       'Jabal Sawda 2.jpg', 'The Art Street 2.jpg',\n",
       "       'Green Mountain 2.jpg', 'Aseer National Park 2.jpg',\n",
       "       'North Corniche Park 2.jpg', 'Tourist Edge Marina 2.jpg',\n",
       "       'Al Khazzan Park 2.jpg', 'غابة سقام 2.jpg'], dtype=object)"
      ]
     },
     "execution_count": 107,
     "metadata": {},
     "output_type": "execute_result"
    }
   ],
   "source": [
    "val = needed['Name of the tourist site '].values\n",
    "img_names = val+\" 2.jpg\"\n",
    "img_names"
   ]
  },
  {
   "cell_type": "code",
   "execution_count": 113,
   "metadata": {},
   "outputs": [
    {
     "data": {
      "text/plain": [
       "['Riyadh Zoo 2.jpg',\n",
       " 'King Abdullah Park 2.jpg',\n",
       " 'Center Point 2.jpg',\n",
       " 'Al Musawkaf Market 2.jpg',\n",
       " 'Abraj Al-Bait Towers 2.jpg',\n",
       " 'Uhud Mountain 2.jpg',\n",
       " 'The Green Dome 2.jpg',\n",
       " 'Prince Saud Bin Abdul Mohsen Park 2.jpg',\n",
       " 'Olive Garden 2.jpg',\n",
       " 'Al Khanafah Wildlife Sanctuary 2.jpg',\n",
       " 'Tabuk Fortress 2.jpg',\n",
       " 'At-Taysiyah Natural Reserve 2.jpg',\n",
       " 'Jabal Sawda 2.jpg',\n",
       " 'The Art Street 2.jpg',\n",
       " 'Green Mountain 2.jpg',\n",
       " 'Aseer National Park 2.jpg',\n",
       " 'North Corniche Park 2.jpg',\n",
       " 'Tourist Edge Marina 2.jpg',\n",
       " 'Al Khazzan Park 2.jpg',\n",
       " 'غابة سقام 2.jpg']"
      ]
     },
     "execution_count": 113,
     "metadata": {},
     "output_type": "execute_result"
    }
   ],
   "source": [
    "app = []\n",
    "lent = 20\n",
    "for i in range(lent):\n",
    "    app.append(img_names[i])\n",
    "app"
   ]
  },
  {
   "cell_type": "code",
   "execution_count": null,
   "metadata": {},
   "outputs": [],
   "source": []
  },
  {
   "cell_type": "code",
   "execution_count": 101,
   "metadata": {},
   "outputs": [],
   "source": [
    "lg = []"
   ]
  },
  {
   "cell_type": "code",
   "execution_count": 102,
   "metadata": {},
   "outputs": [
    {
     "data": {
      "text/plain": [
       "['img/Riyadh Zoo 2.jpg',\n",
       " 'img/King Abdullah Park 2.jpg',\n",
       " 'img/Center Point 2.jpg',\n",
       " 'img/Al Musawkaf Market 2.jpg',\n",
       " 'img/Abraj Al-Bait Towers 2.jpg',\n",
       " 'img/Uhud Mountain 2.jpg',\n",
       " 'img/The Green Dome 2.jpg',\n",
       " 'img/Prince Saud Bin Abdul Mohsen Park 2.jpg',\n",
       " 'img/Olive Garden 2.jpg',\n",
       " 'img/Al Khanafah Wildlife Sanctuary 2.jpg',\n",
       " 'img/Tabuk Fortress 2.jpg',\n",
       " 'img/At-Taysiyah Natural Reserve 2.jpg',\n",
       " 'img/Jabal Sawda 2.jpg',\n",
       " 'img/The Art Street 2.jpg',\n",
       " 'img/Green Mountain 2.jpg',\n",
       " 'img/Aseer National Park 2.jpg',\n",
       " 'img/North Corniche Park 2.jpg',\n",
       " 'img/Tourist Edge Marina 2.jpg',\n",
       " 'img/Al Khazzan Park 2.jpg',\n",
       " 'img/غابة سقام 2.jpg']"
      ]
     },
     "execution_count": 102,
     "metadata": {},
     "output_type": "execute_result"
    }
   ],
   "source": [
    "for items in img_names:\n",
    "    ig_jpg = r\"img/%s\"%items\n",
    "    lg.append(ig_jpg)\n",
    "lgg = lg\n",
    "lgg"
   ]
  },
  {
   "cell_type": "code",
   "execution_count": 134,
   "metadata": {},
   "outputs": [
    {
     "data": {
      "text/plain": [
       "array(['Riyadh Zoo', 'King Abdullah Park', 'Center Point',\n",
       "       'Al Musawkaf Market', 'Abraj Al-Bait Towers', 'Uhud Mountain',\n",
       "       'The Green Dome', 'Prince Saud Bin Abdul Mohsen Park',\n",
       "       'Olive Garden', 'Al Khanafah Wildlife Sanctuary', 'Tabuk Fortress',\n",
       "       'At-Taysiyah Natural Reserve', 'Jabal Sawda', 'The Art Street',\n",
       "       'Green Mountain', 'Aseer National Park', 'North Corniche Park',\n",
       "       'Tourist Edge Marina', 'Al Khazzan Park', 'غابة سقام'],\n",
       "      dtype=object)"
      ]
     },
     "execution_count": 134,
     "metadata": {},
     "output_type": "execute_result"
    }
   ],
   "source": [
    "needed['Name of the tourist site '].values"
   ]
  },
  {
   "cell_type": "code",
   "execution_count": null,
   "metadata": {},
   "outputs": [],
   "source": []
  },
  {
   "cell_type": "code",
   "execution_count": 57,
   "metadata": {},
   "outputs": [
    {
     "data": {
      "text/plain": [
       "array(['Masjid al-Haram', 'Mount Arafat', 'Al Masjid an Nabawi',\n",
       "       'Masjed Quba', 'Al Tawba Mosque'], dtype=object)"
      ]
     },
     "execution_count": 57,
     "metadata": {},
     "output_type": "execute_result"
    }
   ],
   "source": [
    "nots = needed['Name of the tourist site ']\n",
    "nots =nots.values\n",
    "nots"
   ]
  },
  {
   "cell_type": "code",
   "execution_count": null,
   "metadata": {},
   "outputs": [],
   "source": []
  },
  {
   "cell_type": "code",
   "execution_count": null,
   "metadata": {},
   "outputs": [],
   "source": []
  },
  {
   "cell_type": "code",
   "execution_count": null,
   "metadata": {},
   "outputs": [],
   "source": []
  },
  {
   "cell_type": "code",
   "execution_count": null,
   "metadata": {},
   "outputs": [],
   "source": [
    "for i in [len(rec)]:\n",
    "    res = (rec.values[i-1])\n",
    "    res = list(res.split(\";\"))"
   ]
  },
  {
   "cell_type": "code",
   "execution_count": 103,
   "metadata": {},
   "outputs": [
    {
     "data": {
      "text/plain": [
       "0                                     Witer-Wonderland \n",
       "1                                            Riyadh Zoo\n",
       "2                                    King Abdullah Park\n",
       "3                             Murabba Historical Palace\n",
       "4                                         Center Point \n",
       "5                                       Buraidah Museum\n",
       "6                                       Aloqilat Museum\n",
       "7                                    Al Musawkaf Market\n",
       "8                                        Tamya Mountain\n",
       "9                                  Abraj Al-Bait Towers\n",
       "10                                                Kaaba\n",
       "11                                      Masjid al-Haram\n",
       "12                                         Mount Arafat\n",
       "13                                  Al Masjid an Nabawi\n",
       "14                                          Masjed Quba\n",
       "15                                        Uhud Mountain\n",
       "16                                Dar Al Madinah Museum\n",
       "17                                       The Green Dome\n",
       "18                                          A'arif fort\n",
       "19                           Hail Local Heritage Museum\n",
       "20                    Prince Saud Bin Abdul Mohsen Park\n",
       "21                                         Olive Garden\n",
       "22                                         Marid Castle\n",
       "23                                      Al-Saidi Castle\n",
       "24                                      Rajajil Columns\n",
       "25                                        Zaabal Castle\n",
       "26                       Al Khanafah Wildlife Sanctuary\n",
       "27                                       Tabuk Fortress\n",
       "28                                         Tabuk castle\n",
       "29                                      Al Tawba Mosque\n",
       "30                          At-Taysiyah Natural Reserve\n",
       "31                                          Jabal Sawda\n",
       "32                                       The Art Street\n",
       "33    Al Muftaha Archaeological It is a historical M...\n",
       "34                                       Green Mountain\n",
       "35                                  Aseer National Park\n",
       "36                               Jazan Heritage Village\n",
       "37                                         Turks Castle\n",
       "38                                  North Corniche Park\n",
       "39                                  Tourist Edge Marina\n",
       "40                                      Al Khazzan Park\n",
       "41                                        Najran Museum\n",
       "42                                          Aan Palace \n",
       "43                                      قلعة و جبل رعوم\n",
       "44                                            غابة سقام\n",
       "45                                 Raghadan Forest Park\n",
       "46                                       Al Baha Museum\n",
       "47                                   Prince Hussam Park\n",
       "48                                  Khairah Forest Park\n",
       "49                                         Al Malad Dam\n",
       "50      King Abdulaziz Center for World Culture - Ithra\n",
       "51                                      Dammam Corniche\n",
       "52                                        Murjan Island\n",
       "53                                     Heritage Village\n",
       "54                                                Tayma\n",
       "Name: Name of the tourist site , dtype: object"
      ]
     },
     "execution_count": 103,
     "metadata": {},
     "output_type": "execute_result"
    }
   ],
   "source": [
    "df['Name of the tourist site ']"
   ]
  },
  {
   "cell_type": "code",
   "execution_count": null,
   "metadata": {},
   "outputs": [],
   "source": []
  },
  {
   "cell_type": "code",
   "execution_count": null,
   "metadata": {},
   "outputs": [],
   "source": []
  },
  {
   "cell_type": "code",
   "execution_count": 19,
   "metadata": {},
   "outputs": [],
   "source": [
    "df['cat'] = np.arange(0, 55)"
   ]
  },
  {
   "cell_type": "code",
   "execution_count": 20,
   "metadata": {},
   "outputs": [],
   "source": [
    "df.to_csv('tour.csv')"
   ]
  },
  {
   "cell_type": "code",
   "execution_count": 21,
   "metadata": {},
   "outputs": [],
   "source": [
    "from sklearn.svm import SVR\n",
    "from sklearn.model_selection import train_test_split"
   ]
  },
  {
   "cell_type": "code",
   "execution_count": 22,
   "metadata": {},
   "outputs": [],
   "source": [
    "x = df.drop(['Number', 'City', 'Name of the tourist site ', 'Biaography', 'Location', 'Cordinates ', \\\n",
    "             'Worktime', 'Website link', 'tourist_info', 'cat'], axis = 1)"
   ]
  },
  {
   "cell_type": "code",
   "execution_count": null,
   "metadata": {},
   "outputs": [],
   "source": []
  },
  {
   "cell_type": "code",
   "execution_count": null,
   "metadata": {},
   "outputs": [],
   "source": []
  },
  {
   "cell_type": "code",
   "execution_count": 23,
   "metadata": {},
   "outputs": [],
   "source": [
    "y = df['cat']"
   ]
  },
  {
   "cell_type": "code",
   "execution_count": 24,
   "metadata": {},
   "outputs": [],
   "source": [
    "y = pd.DataFrame(y, columns =['cat'])\n",
    "Y = y['cat']"
   ]
  },
  {
   "cell_type": "code",
   "execution_count": 25,
   "metadata": {},
   "outputs": [],
   "source": [
    "Y = y['cat']"
   ]
  },
  {
   "cell_type": "code",
   "execution_count": 26,
   "metadata": {},
   "outputs": [
    {
     "data": {
      "text/html": [
       "<div>\n",
       "<style scoped>\n",
       "    .dataframe tbody tr th:only-of-type {\n",
       "        vertical-align: middle;\n",
       "    }\n",
       "\n",
       "    .dataframe tbody tr th {\n",
       "        vertical-align: top;\n",
       "    }\n",
       "\n",
       "    .dataframe thead th {\n",
       "        text-align: right;\n",
       "    }\n",
       "</style>\n",
       "<table border=\"1\" class=\"dataframe\">\n",
       "  <thead>\n",
       "    <tr style=\"text-align: right;\">\n",
       "      <th></th>\n",
       "      <th>Region_AlBahah</th>\n",
       "      <th>Region_Aljowf</th>\n",
       "      <th>Region_Almadinah</th>\n",
       "      <th>Region_Alqassim</th>\n",
       "      <th>Region_Aseer</th>\n",
       "      <th>Region_Dammam</th>\n",
       "      <th>Region_Hail</th>\n",
       "      <th>Region_Jazan</th>\n",
       "      <th>Region_Makkah</th>\n",
       "      <th>Region_Najran</th>\n",
       "      <th>Region_Northern Borders</th>\n",
       "      <th>Region_Riyadh</th>\n",
       "      <th>Region_Tabuk</th>\n",
       "      <th>Category_Historical</th>\n",
       "      <th>Category_Islamic</th>\n",
       "      <th>Category_Tourist</th>\n",
       "      <th>Category_Tourist and Historical</th>\n",
       "    </tr>\n",
       "  </thead>\n",
       "  <tbody>\n",
       "    <tr>\n",
       "      <th>0</th>\n",
       "      <td>0</td>\n",
       "      <td>0</td>\n",
       "      <td>0</td>\n",
       "      <td>0</td>\n",
       "      <td>0</td>\n",
       "      <td>0</td>\n",
       "      <td>0</td>\n",
       "      <td>0</td>\n",
       "      <td>0</td>\n",
       "      <td>0</td>\n",
       "      <td>0</td>\n",
       "      <td>1</td>\n",
       "      <td>0</td>\n",
       "      <td>0</td>\n",
       "      <td>0</td>\n",
       "      <td>1</td>\n",
       "      <td>0</td>\n",
       "    </tr>\n",
       "    <tr>\n",
       "      <th>1</th>\n",
       "      <td>0</td>\n",
       "      <td>0</td>\n",
       "      <td>0</td>\n",
       "      <td>0</td>\n",
       "      <td>0</td>\n",
       "      <td>0</td>\n",
       "      <td>0</td>\n",
       "      <td>0</td>\n",
       "      <td>0</td>\n",
       "      <td>0</td>\n",
       "      <td>0</td>\n",
       "      <td>1</td>\n",
       "      <td>0</td>\n",
       "      <td>0</td>\n",
       "      <td>0</td>\n",
       "      <td>1</td>\n",
       "      <td>0</td>\n",
       "    </tr>\n",
       "  </tbody>\n",
       "</table>\n",
       "</div>"
      ],
      "text/plain": [
       "   Region_AlBahah  Region_Aljowf  Region_Almadinah  Region_Alqassim  \\\n",
       "0               0              0                 0                0   \n",
       "1               0              0                 0                0   \n",
       "\n",
       "   Region_Aseer  Region_Dammam  Region_Hail  Region_Jazan  Region_Makkah   \\\n",
       "0             0              0            0             0               0   \n",
       "1             0              0            0             0               0   \n",
       "\n",
       "   Region_Najran  Region_Northern Borders  Region_Riyadh  Region_Tabuk  \\\n",
       "0              0                        0              1             0   \n",
       "1              0                        0              1             0   \n",
       "\n",
       "   Category_Historical  Category_Islamic  Category_Tourist  \\\n",
       "0                    0                 0                 1   \n",
       "1                    0                 0                 1   \n",
       "\n",
       "   Category_Tourist and Historical  \n",
       "0                                0  \n",
       "1                                0  "
      ]
     },
     "execution_count": 26,
     "metadata": {},
     "output_type": "execute_result"
    }
   ],
   "source": [
    "X = pd.get_dummies(x, columns = ['Region','Category'])\n",
    "X.head(2)"
   ]
  },
  {
   "cell_type": "code",
   "execution_count": 27,
   "metadata": {},
   "outputs": [
    {
     "data": {
      "text/plain": [
       "Index(['Region_AlBahah', 'Region_Aljowf', 'Region_Almadinah',\n",
       "       'Region_Alqassim', 'Region_Aseer', 'Region_Dammam', 'Region_Hail',\n",
       "       'Region_Jazan', 'Region_Makkah ', 'Region_Najran',\n",
       "       'Region_Northern Borders', 'Region_Riyadh', 'Region_Tabuk',\n",
       "       'Category_Historical', 'Category_Islamic', 'Category_Tourist',\n",
       "       'Category_Tourist and Historical'],\n",
       "      dtype='object')"
      ]
     },
     "execution_count": 27,
     "metadata": {},
     "output_type": "execute_result"
    }
   ],
   "source": [
    "from sklearn.preprocessing import MinMaxScaler\n",
    "sc = MinMaxScaler()\n",
    "Xsc = sc.fit_transform(X)\n",
    "X.columns"
   ]
  },
  {
   "cell_type": "code",
   "execution_count": 28,
   "metadata": {},
   "outputs": [
    {
     "data": {
      "text/plain": [
       "'0.21.2'"
      ]
     },
     "execution_count": 28,
     "metadata": {},
     "output_type": "execute_result"
    }
   ],
   "source": [
    "import sklearn\n",
    "sklearn.__version__"
   ]
  },
  {
   "cell_type": "code",
   "execution_count": 29,
   "metadata": {},
   "outputs": [
    {
     "data": {
      "text/html": [
       "<div>\n",
       "<style scoped>\n",
       "    .dataframe tbody tr th:only-of-type {\n",
       "        vertical-align: middle;\n",
       "    }\n",
       "\n",
       "    .dataframe tbody tr th {\n",
       "        vertical-align: top;\n",
       "    }\n",
       "\n",
       "    .dataframe thead th {\n",
       "        text-align: right;\n",
       "    }\n",
       "</style>\n",
       "<table border=\"1\" class=\"dataframe\">\n",
       "  <thead>\n",
       "    <tr style=\"text-align: right;\">\n",
       "      <th></th>\n",
       "      <th>Region_AlBahah</th>\n",
       "      <th>Region_Aljowf</th>\n",
       "      <th>Region_Almadinah</th>\n",
       "      <th>Region_Alqassim</th>\n",
       "      <th>Region_Aseer</th>\n",
       "      <th>Region_Dammam</th>\n",
       "      <th>Region_Hail</th>\n",
       "      <th>Region_Jazan</th>\n",
       "      <th>Region_Makkah</th>\n",
       "      <th>Region_Najran</th>\n",
       "      <th>Region_Northern Borders</th>\n",
       "      <th>Region_Riyadh</th>\n",
       "      <th>Region_Tabuk</th>\n",
       "      <th>Category_Historical</th>\n",
       "      <th>Category_Islamic</th>\n",
       "      <th>Category_Tourist</th>\n",
       "      <th>Category_Tourist and Historical</th>\n",
       "    </tr>\n",
       "  </thead>\n",
       "  <tbody>\n",
       "    <tr>\n",
       "      <th>0</th>\n",
       "      <td>0.0</td>\n",
       "      <td>0.0</td>\n",
       "      <td>0.0</td>\n",
       "      <td>0.0</td>\n",
       "      <td>0.0</td>\n",
       "      <td>0.0</td>\n",
       "      <td>0.0</td>\n",
       "      <td>0.0</td>\n",
       "      <td>0.0</td>\n",
       "      <td>0.0</td>\n",
       "      <td>0.0</td>\n",
       "      <td>1.0</td>\n",
       "      <td>0.0</td>\n",
       "      <td>0.0</td>\n",
       "      <td>0.0</td>\n",
       "      <td>1.0</td>\n",
       "      <td>0.0</td>\n",
       "    </tr>\n",
       "    <tr>\n",
       "      <th>1</th>\n",
       "      <td>0.0</td>\n",
       "      <td>0.0</td>\n",
       "      <td>0.0</td>\n",
       "      <td>0.0</td>\n",
       "      <td>0.0</td>\n",
       "      <td>0.0</td>\n",
       "      <td>0.0</td>\n",
       "      <td>0.0</td>\n",
       "      <td>0.0</td>\n",
       "      <td>0.0</td>\n",
       "      <td>0.0</td>\n",
       "      <td>1.0</td>\n",
       "      <td>0.0</td>\n",
       "      <td>0.0</td>\n",
       "      <td>0.0</td>\n",
       "      <td>1.0</td>\n",
       "      <td>0.0</td>\n",
       "    </tr>\n",
       "    <tr>\n",
       "      <th>2</th>\n",
       "      <td>0.0</td>\n",
       "      <td>0.0</td>\n",
       "      <td>0.0</td>\n",
       "      <td>0.0</td>\n",
       "      <td>0.0</td>\n",
       "      <td>0.0</td>\n",
       "      <td>0.0</td>\n",
       "      <td>0.0</td>\n",
       "      <td>0.0</td>\n",
       "      <td>0.0</td>\n",
       "      <td>0.0</td>\n",
       "      <td>1.0</td>\n",
       "      <td>0.0</td>\n",
       "      <td>0.0</td>\n",
       "      <td>0.0</td>\n",
       "      <td>1.0</td>\n",
       "      <td>0.0</td>\n",
       "    </tr>\n",
       "    <tr>\n",
       "      <th>3</th>\n",
       "      <td>0.0</td>\n",
       "      <td>0.0</td>\n",
       "      <td>0.0</td>\n",
       "      <td>0.0</td>\n",
       "      <td>0.0</td>\n",
       "      <td>0.0</td>\n",
       "      <td>0.0</td>\n",
       "      <td>0.0</td>\n",
       "      <td>0.0</td>\n",
       "      <td>0.0</td>\n",
       "      <td>0.0</td>\n",
       "      <td>1.0</td>\n",
       "      <td>0.0</td>\n",
       "      <td>1.0</td>\n",
       "      <td>0.0</td>\n",
       "      <td>0.0</td>\n",
       "      <td>0.0</td>\n",
       "    </tr>\n",
       "    <tr>\n",
       "      <th>4</th>\n",
       "      <td>0.0</td>\n",
       "      <td>0.0</td>\n",
       "      <td>0.0</td>\n",
       "      <td>0.0</td>\n",
       "      <td>0.0</td>\n",
       "      <td>0.0</td>\n",
       "      <td>0.0</td>\n",
       "      <td>0.0</td>\n",
       "      <td>0.0</td>\n",
       "      <td>0.0</td>\n",
       "      <td>0.0</td>\n",
       "      <td>1.0</td>\n",
       "      <td>0.0</td>\n",
       "      <td>0.0</td>\n",
       "      <td>0.0</td>\n",
       "      <td>1.0</td>\n",
       "      <td>0.0</td>\n",
       "    </tr>\n",
       "  </tbody>\n",
       "</table>\n",
       "</div>"
      ],
      "text/plain": [
       "   Region_AlBahah  Region_Aljowf  Region_Almadinah  Region_Alqassim  \\\n",
       "0             0.0            0.0               0.0              0.0   \n",
       "1             0.0            0.0               0.0              0.0   \n",
       "2             0.0            0.0               0.0              0.0   \n",
       "3             0.0            0.0               0.0              0.0   \n",
       "4             0.0            0.0               0.0              0.0   \n",
       "\n",
       "   Region_Aseer  Region_Dammam  Region_Hail  Region_Jazan  Region_Makkah   \\\n",
       "0           0.0            0.0          0.0           0.0             0.0   \n",
       "1           0.0            0.0          0.0           0.0             0.0   \n",
       "2           0.0            0.0          0.0           0.0             0.0   \n",
       "3           0.0            0.0          0.0           0.0             0.0   \n",
       "4           0.0            0.0          0.0           0.0             0.0   \n",
       "\n",
       "   Region_Najran  Region_Northern Borders  Region_Riyadh  Region_Tabuk  \\\n",
       "0            0.0                      0.0            1.0           0.0   \n",
       "1            0.0                      0.0            1.0           0.0   \n",
       "2            0.0                      0.0            1.0           0.0   \n",
       "3            0.0                      0.0            1.0           0.0   \n",
       "4            0.0                      0.0            1.0           0.0   \n",
       "\n",
       "   Category_Historical  Category_Islamic  Category_Tourist  \\\n",
       "0                  0.0               0.0               1.0   \n",
       "1                  0.0               0.0               1.0   \n",
       "2                  0.0               0.0               1.0   \n",
       "3                  1.0               0.0               0.0   \n",
       "4                  0.0               0.0               1.0   \n",
       "\n",
       "   Category_Tourist and Historical  \n",
       "0                              0.0  \n",
       "1                              0.0  \n",
       "2                              0.0  \n",
       "3                              0.0  \n",
       "4                              0.0  "
      ]
     },
     "execution_count": 29,
     "metadata": {},
     "output_type": "execute_result"
    }
   ],
   "source": [
    "X = pd.DataFrame(Xsc, columns = ['Region_AlBahah', 'Region_Aljowf', 'Region_Almadinah',\n",
    "       'Region_Alqassim', 'Region_Aseer', 'Region_Dammam', 'Region_Hail',\n",
    "       'Region_Jazan', 'Region_Makkah ', 'Region_Najran',\n",
    "       'Region_Northern Borders', 'Region_Riyadh', 'Region_Tabuk',\n",
    "       'Category_Historical', 'Category_Islamic', 'Category_Tourist',\n",
    "       'Category_Tourist and Historical'])\n",
    "X.head()"
   ]
  },
  {
   "cell_type": "code",
   "execution_count": 30,
   "metadata": {},
   "outputs": [],
   "source": [
    "xtrain, xtest, ytrain, ytest = train_test_split(X, Y, test_size=1/8, random_state = 1)"
   ]
  },
  {
   "cell_type": "code",
   "execution_count": 31,
   "metadata": {},
   "outputs": [],
   "source": [
    "from sklearn.linear_model import LinearRegression\n",
    "from sklearn.metrics import mean_squared_error, r2_score\n",
    "import pickle"
   ]
  },
  {
   "cell_type": "code",
   "execution_count": 32,
   "metadata": {},
   "outputs": [
    {
     "data": {
      "text/plain": [
       "LinearRegression(copy_X=True, fit_intercept=True, n_jobs=None, normalize=False)"
      ]
     },
     "execution_count": 32,
     "metadata": {},
     "output_type": "execute_result"
    }
   ],
   "source": [
    "model = LinearRegression()\n",
    "model.fit(xtrain, ytrain)"
   ]
  },
  {
   "cell_type": "code",
   "execution_count": null,
   "metadata": {},
   "outputs": [],
   "source": []
  },
  {
   "cell_type": "code",
   "execution_count": 33,
   "metadata": {},
   "outputs": [
    {
     "data": {
      "text/plain": [
       "array([27.8321149 ,  2.48575275, 24.534515  , 50.873981  , 33.64767033,\n",
       "       33.64767033, 47.2672575 ])"
      ]
     },
     "execution_count": 33,
     "metadata": {},
     "output_type": "execute_result"
    }
   ],
   "source": [
    "ypred = model.predict(xtest)\n",
    "ypred"
   ]
  },
  {
   "cell_type": "code",
   "execution_count": 34,
   "metadata": {},
   "outputs": [],
   "source": [
    "A = [int(round(a)) for a in ypred]\n",
    "# <class ‘int’>"
   ]
  },
  {
   "cell_type": "code",
   "execution_count": 35,
   "metadata": {},
   "outputs": [],
   "source": [
    "tourist = df['tourist_info'].values"
   ]
  },
  {
   "cell_type": "code",
   "execution_count": null,
   "metadata": {},
   "outputs": [],
   "source": []
  },
  {
   "cell_type": "code",
   "execution_count": 36,
   "metadata": {},
   "outputs": [
    {
     "name": "stdout",
     "output_type": "stream",
     "text": [
      "R2 score : 0.99\n"
     ]
    }
   ],
   "source": [
    "print(\"R2 score : %.2f\" % r2_score(ytest,ypred))"
   ]
  },
  {
   "cell_type": "code",
   "execution_count": 37,
   "metadata": {},
   "outputs": [
    {
     "name": "stdout",
     "output_type": "stream",
     "text": [
      "Mean squared error: 3.00\n"
     ]
    }
   ],
   "source": [
    "print(\"Mean squared error: %.2f\" % mean_squared_error(ytest,ypred))"
   ]
  },
  {
   "cell_type": "code",
   "execution_count": null,
   "metadata": {},
   "outputs": [],
   "source": []
  },
  {
   "cell_type": "code",
   "execution_count": 39,
   "metadata": {},
   "outputs": [],
   "source": [
    "##APP DEV"
   ]
  },
  {
   "cell_type": "code",
   "execution_count": 40,
   "metadata": {},
   "outputs": [],
   "source": [
    "dff = pd.DataFrame([['Riyadh', 'Tourist']], columns =['Region', 'Category'])\n",
    "table = pd.concat([x, dff])"
   ]
  },
  {
   "cell_type": "code",
   "execution_count": 41,
   "metadata": {},
   "outputs": [
    {
     "data": {
      "text/html": [
       "<div>\n",
       "<style scoped>\n",
       "    .dataframe tbody tr th:only-of-type {\n",
       "        vertical-align: middle;\n",
       "    }\n",
       "\n",
       "    .dataframe tbody tr th {\n",
       "        vertical-align: top;\n",
       "    }\n",
       "\n",
       "    .dataframe thead th {\n",
       "        text-align: right;\n",
       "    }\n",
       "</style>\n",
       "<table border=\"1\" class=\"dataframe\">\n",
       "  <thead>\n",
       "    <tr style=\"text-align: right;\">\n",
       "      <th></th>\n",
       "      <th>Region_AlBahah</th>\n",
       "      <th>Region_Aljowf</th>\n",
       "      <th>Region_Almadinah</th>\n",
       "      <th>Region_Alqassim</th>\n",
       "      <th>Region_Aseer</th>\n",
       "      <th>Region_Dammam</th>\n",
       "      <th>Region_Hail</th>\n",
       "      <th>Region_Jazan</th>\n",
       "      <th>Region_Makkah</th>\n",
       "      <th>Region_Najran</th>\n",
       "      <th>Region_Northern Borders</th>\n",
       "      <th>Region_Riyadh</th>\n",
       "      <th>Region_Tabuk</th>\n",
       "      <th>Category_Historical</th>\n",
       "      <th>Category_Islamic</th>\n",
       "      <th>Category_Tourist</th>\n",
       "      <th>Category_Tourist and Historical</th>\n",
       "    </tr>\n",
       "  </thead>\n",
       "  <tbody>\n",
       "    <tr>\n",
       "      <th>0</th>\n",
       "      <td>0</td>\n",
       "      <td>0</td>\n",
       "      <td>0</td>\n",
       "      <td>0</td>\n",
       "      <td>0</td>\n",
       "      <td>0</td>\n",
       "      <td>0</td>\n",
       "      <td>0</td>\n",
       "      <td>0</td>\n",
       "      <td>0</td>\n",
       "      <td>0</td>\n",
       "      <td>1</td>\n",
       "      <td>0</td>\n",
       "      <td>0</td>\n",
       "      <td>0</td>\n",
       "      <td>1</td>\n",
       "      <td>0</td>\n",
       "    </tr>\n",
       "    <tr>\n",
       "      <th>1</th>\n",
       "      <td>0</td>\n",
       "      <td>0</td>\n",
       "      <td>0</td>\n",
       "      <td>0</td>\n",
       "      <td>0</td>\n",
       "      <td>0</td>\n",
       "      <td>0</td>\n",
       "      <td>0</td>\n",
       "      <td>0</td>\n",
       "      <td>0</td>\n",
       "      <td>0</td>\n",
       "      <td>1</td>\n",
       "      <td>0</td>\n",
       "      <td>0</td>\n",
       "      <td>0</td>\n",
       "      <td>1</td>\n",
       "      <td>0</td>\n",
       "    </tr>\n",
       "  </tbody>\n",
       "</table>\n",
       "</div>"
      ],
      "text/plain": [
       "   Region_AlBahah  Region_Aljowf  Region_Almadinah  Region_Alqassim  \\\n",
       "0               0              0                 0                0   \n",
       "1               0              0                 0                0   \n",
       "\n",
       "   Region_Aseer  Region_Dammam  Region_Hail  Region_Jazan  Region_Makkah   \\\n",
       "0             0              0            0             0               0   \n",
       "1             0              0            0             0               0   \n",
       "\n",
       "   Region_Najran  Region_Northern Borders  Region_Riyadh  Region_Tabuk  \\\n",
       "0              0                        0              1             0   \n",
       "1              0                        0              1             0   \n",
       "\n",
       "   Category_Historical  Category_Islamic  Category_Tourist  \\\n",
       "0                    0                 0                 1   \n",
       "1                    0                 0                 1   \n",
       "\n",
       "   Category_Tourist and Historical  \n",
       "0                                0  \n",
       "1                                0  "
      ]
     },
     "execution_count": 41,
     "metadata": {},
     "output_type": "execute_result"
    }
   ],
   "source": [
    "table_d = pd.get_dummies(table, columns = ['Region','Category'])\n",
    "table_d.head(2)"
   ]
  },
  {
   "cell_type": "code",
   "execution_count": 42,
   "metadata": {},
   "outputs": [
    {
     "data": {
      "text/plain": [
       "Index(['Region_AlBahah', 'Region_Aljowf', 'Region_Almadinah',\n",
       "       'Region_Alqassim', 'Region_Aseer', 'Region_Dammam', 'Region_Hail',\n",
       "       'Region_Jazan', 'Region_Makkah ', 'Region_Najran',\n",
       "       'Region_Northern Borders', 'Region_Riyadh', 'Region_Tabuk',\n",
       "       'Category_Historical', 'Category_Islamic', 'Category_Tourist',\n",
       "       'Category_Tourist and Historical'],\n",
       "      dtype='object')"
      ]
     },
     "execution_count": 42,
     "metadata": {},
     "output_type": "execute_result"
    }
   ],
   "source": [
    "table_d.columns"
   ]
  },
  {
   "cell_type": "code",
   "execution_count": null,
   "metadata": {},
   "outputs": [],
   "source": []
  },
  {
   "cell_type": "code",
   "execution_count": 43,
   "metadata": {},
   "outputs": [],
   "source": [
    "sc = MinMaxScaler()\n",
    "dfsc = sc.fit_transform(table_d)"
   ]
  },
  {
   "cell_type": "code",
   "execution_count": 44,
   "metadata": {},
   "outputs": [],
   "source": [
    "testing = pd.DataFrame(dfsc, columns =['Region_AlBahah', 'Region_Aljowf', 'Region_Almadinah',\n",
    "       'Region_Alqassim', 'Region_Aseer', 'Region_Dammam', 'Region_Hail',\n",
    "       'Region_Jazan', 'Region_Makkah', 'Region_Najran',\n",
    "       'Region_Northern Borders', 'Region_Riyadh', 'Region_Tabuk',\n",
    "       'Category_Historical', 'Category_Islamic', 'Category_Tourist',\n",
    "       'Category_Tourist and Historical'])"
   ]
  },
  {
   "cell_type": "code",
   "execution_count": 45,
   "metadata": {},
   "outputs": [
    {
     "data": {
      "text/html": [
       "<div>\n",
       "<style scoped>\n",
       "    .dataframe tbody tr th:only-of-type {\n",
       "        vertical-align: middle;\n",
       "    }\n",
       "\n",
       "    .dataframe tbody tr th {\n",
       "        vertical-align: top;\n",
       "    }\n",
       "\n",
       "    .dataframe thead th {\n",
       "        text-align: right;\n",
       "    }\n",
       "</style>\n",
       "<table border=\"1\" class=\"dataframe\">\n",
       "  <thead>\n",
       "    <tr style=\"text-align: right;\">\n",
       "      <th></th>\n",
       "      <th>Region_AlBahah</th>\n",
       "      <th>Region_Aljowf</th>\n",
       "      <th>Region_Almadinah</th>\n",
       "      <th>Region_Alqassim</th>\n",
       "      <th>Region_Aseer</th>\n",
       "      <th>Region_Dammam</th>\n",
       "      <th>Region_Hail</th>\n",
       "      <th>Region_Jazan</th>\n",
       "      <th>Region_Makkah</th>\n",
       "      <th>Region_Najran</th>\n",
       "      <th>Region_Northern Borders</th>\n",
       "      <th>Region_Riyadh</th>\n",
       "      <th>Region_Tabuk</th>\n",
       "      <th>Category_Historical</th>\n",
       "      <th>Category_Islamic</th>\n",
       "      <th>Category_Tourist</th>\n",
       "      <th>Category_Tourist and Historical</th>\n",
       "    </tr>\n",
       "  </thead>\n",
       "  <tbody>\n",
       "    <tr>\n",
       "      <th>0</th>\n",
       "      <td>0.0</td>\n",
       "      <td>0.0</td>\n",
       "      <td>0.0</td>\n",
       "      <td>0.0</td>\n",
       "      <td>0.0</td>\n",
       "      <td>0.0</td>\n",
       "      <td>0.0</td>\n",
       "      <td>0.0</td>\n",
       "      <td>0.0</td>\n",
       "      <td>0.0</td>\n",
       "      <td>0.0</td>\n",
       "      <td>1.0</td>\n",
       "      <td>0.0</td>\n",
       "      <td>0.0</td>\n",
       "      <td>0.0</td>\n",
       "      <td>1.0</td>\n",
       "      <td>0.0</td>\n",
       "    </tr>\n",
       "    <tr>\n",
       "      <th>1</th>\n",
       "      <td>0.0</td>\n",
       "      <td>0.0</td>\n",
       "      <td>0.0</td>\n",
       "      <td>0.0</td>\n",
       "      <td>0.0</td>\n",
       "      <td>0.0</td>\n",
       "      <td>0.0</td>\n",
       "      <td>0.0</td>\n",
       "      <td>0.0</td>\n",
       "      <td>0.0</td>\n",
       "      <td>0.0</td>\n",
       "      <td>1.0</td>\n",
       "      <td>0.0</td>\n",
       "      <td>0.0</td>\n",
       "      <td>0.0</td>\n",
       "      <td>1.0</td>\n",
       "      <td>0.0</td>\n",
       "    </tr>\n",
       "  </tbody>\n",
       "</table>\n",
       "</div>"
      ],
      "text/plain": [
       "   Region_AlBahah  Region_Aljowf  Region_Almadinah  Region_Alqassim  \\\n",
       "0             0.0            0.0               0.0              0.0   \n",
       "1             0.0            0.0               0.0              0.0   \n",
       "\n",
       "   Region_Aseer  Region_Dammam  Region_Hail  Region_Jazan  Region_Makkah  \\\n",
       "0           0.0            0.0          0.0           0.0            0.0   \n",
       "1           0.0            0.0          0.0           0.0            0.0   \n",
       "\n",
       "   Region_Najran  Region_Northern Borders  Region_Riyadh  Region_Tabuk  \\\n",
       "0            0.0                      0.0            1.0           0.0   \n",
       "1            0.0                      0.0            1.0           0.0   \n",
       "\n",
       "   Category_Historical  Category_Islamic  Category_Tourist  \\\n",
       "0                  0.0               0.0               1.0   \n",
       "1                  0.0               0.0               1.0   \n",
       "\n",
       "   Category_Tourist and Historical  \n",
       "0                              0.0  \n",
       "1                              0.0  "
      ]
     },
     "execution_count": 45,
     "metadata": {},
     "output_type": "execute_result"
    }
   ],
   "source": [
    "testing.head(2)"
   ]
  },
  {
   "cell_type": "code",
   "execution_count": 48,
   "metadata": {},
   "outputs": [],
   "source": [
    "pred = model.predict(testing)\n",
    "pred = [int(round(a)) for a in pred]"
   ]
  },
  {
   "cell_type": "code",
   "execution_count": 54,
   "metadata": {},
   "outputs": [
    {
     "data": {
      "text/plain": [
       "2"
      ]
     },
     "execution_count": 54,
     "metadata": {},
     "output_type": "execute_result"
    }
   ],
   "source": [
    "pred[2]"
   ]
  },
  {
   "cell_type": "code",
   "execution_count": 51,
   "metadata": {},
   "outputs": [],
   "source": [
    "tour = []"
   ]
  },
  {
   "cell_type": "code",
   "execution_count": 52,
   "metadata": {},
   "outputs": [],
   "source": [
    "for i in pred:\n",
    "    tour.append(tourist[i])"
   ]
  },
  {
   "cell_type": "code",
   "execution_count": 58,
   "metadata": {},
   "outputs": [
    {
     "data": {
      "text/plain": [
       "'Riyadh Zoo; 234567.0;  Malaz district, Riyadh ; 24.675409979746952, 46.737761274275755; It is a big zoo in Malaz station, it is estaplished in 1957 and it was private to Roiyal Family, and became public for all people 1987. it has more than 1500 animals. ; https://www.google.com/travel/things-to-do?g2lb=2502548%2C2503780%2C4258168%2C4270442%2C4306835%2C4317915%2C4371335%2C4401769%2C4419364%2C4429192%2C4482438%2C4486153%2C4509341%2C4515404%2C4533882%2C4536454%2C4554490%2C4562266%2C4270859%2C4284970%2C4291517&hl=en-SA&gl=sa&ssta=1&dest_mid=%2Fm%2F0dlm_&dest_state_type=main&dest_src=ts&sa=X&ved=2ahUKEwiWxe_XkurwAhXthf0HHcPCCNgQuL0BMAF6BAgDEBo&tcfs=EhIKCC9tLzBkbG1fEgZSaXlhZGg'"
      ]
     },
     "execution_count": 58,
     "metadata": {},
     "output_type": "execute_result"
    }
   ],
   "source": [
    "tour[3]"
   ]
  },
  {
   "cell_type": "code",
   "execution_count": 119,
   "metadata": {},
   "outputs": [],
   "source": [
    "#result = df['tourist_info'].iloc[0]"
   ]
  },
  {
   "cell_type": "code",
   "execution_count": 120,
   "metadata": {},
   "outputs": [],
   "source": [
    "res = list(result.split(\";\"))"
   ]
  },
  {
   "cell_type": "code",
   "execution_count": 121,
   "metadata": {},
   "outputs": [
    {
     "data": {
      "text/plain": [
       "['Witer-Wonderland ',\n",
       " ' 1234567.0',\n",
       " ' On King Fahad Road, opposite King Abdullah Financial District.',\n",
       " ' 27.39641300878481, 36.1311613362808',\n",
       " ' It is one of the most expected attraction of Riyadh Season. It can receive more than 50,000 people during its season. ',\n",
       " ' https://xpressriyadh.com/riyadh-season-winter-wonderland-in-riyadh/']"
      ]
     },
     "execution_count": 121,
     "metadata": {},
     "output_type": "execute_result"
    }
   ],
   "source": [
    "res"
   ]
  },
  {
   "cell_type": "code",
   "execution_count": 84,
   "metadata": {},
   "outputs": [
    {
     "data": {
      "text/plain": [
       "' https://xpressriyadh.com/riyadh-season-winter-wonderland-in-riyadh/'"
      ]
     },
     "execution_count": 84,
     "metadata": {},
     "output_type": "execute_result"
    }
   ],
   "source": [
    "res[-1]"
   ]
  },
  {
   "cell_type": "code",
   "execution_count": null,
   "metadata": {},
   "outputs": [],
   "source": []
  },
  {
   "cell_type": "code",
   "execution_count": 1,
   "metadata": {},
   "outputs": [
    {
     "data": {
      "text/html": [
       "<div>\n",
       "<style scoped>\n",
       "    .dataframe tbody tr th:only-of-type {\n",
       "        vertical-align: middle;\n",
       "    }\n",
       "\n",
       "    .dataframe tbody tr th {\n",
       "        vertical-align: top;\n",
       "    }\n",
       "\n",
       "    .dataframe thead th {\n",
       "        text-align: right;\n",
       "    }\n",
       "</style>\n",
       "<table border=\"1\" class=\"dataframe\">\n",
       "  <thead>\n",
       "    <tr style=\"text-align: right;\">\n",
       "      <th></th>\n",
       "      <th>name</th>\n",
       "      <th>age</th>\n",
       "      <th>gender</th>\n",
       "      <th>city</th>\n",
       "      <th>interest</th>\n",
       "    </tr>\n",
       "  </thead>\n",
       "  <tbody>\n",
       "    <tr>\n",
       "      <th>0</th>\n",
       "      <td>Victor Omuya</td>\n",
       "      <td>45</td>\n",
       "      <td>male</td>\n",
       "      <td>Alqassim</td>\n",
       "      <td>Tourist</td>\n",
       "    </tr>\n",
       "    <tr>\n",
       "      <th>1</th>\n",
       "      <td>Victor Omuya</td>\n",
       "      <td>12</td>\n",
       "      <td>male</td>\n",
       "      <td>Alqassim</td>\n",
       "      <td>Tourist</td>\n",
       "    </tr>\n",
       "    <tr>\n",
       "      <th>2</th>\n",
       "      <td>olaojo ayo</td>\n",
       "      <td>12</td>\n",
       "      <td>male</td>\n",
       "      <td>Riyadh</td>\n",
       "      <td>Tourist</td>\n",
       "    </tr>\n",
       "    <tr>\n",
       "      <th>3</th>\n",
       "      <td>toga</td>\n",
       "      <td>45</td>\n",
       "      <td>male</td>\n",
       "      <td>Riyadh</td>\n",
       "      <td>Tourist</td>\n",
       "    </tr>\n",
       "    <tr>\n",
       "      <th>4</th>\n",
       "      <td>olaojo ayo</td>\n",
       "      <td>12</td>\n",
       "      <td>male</td>\n",
       "      <td>Riyadh</td>\n",
       "      <td>Tourist</td>\n",
       "    </tr>\n",
       "    <tr>\n",
       "      <th>5</th>\n",
       "      <td>Victor Omuya</td>\n",
       "      <td>12</td>\n",
       "      <td>male</td>\n",
       "      <td>Alqassim</td>\n",
       "      <td>Tourist</td>\n",
       "    </tr>\n",
       "    <tr>\n",
       "      <th>6</th>\n",
       "      <td>olaojo ayo</td>\n",
       "      <td>23</td>\n",
       "      <td>male</td>\n",
       "      <td>Riyadh</td>\n",
       "      <td>Tourist</td>\n",
       "    </tr>\n",
       "    <tr>\n",
       "      <th>7</th>\n",
       "      <td>Victor Omuya</td>\n",
       "      <td>23</td>\n",
       "      <td>male</td>\n",
       "      <td>Aljowf</td>\n",
       "      <td>Tourist</td>\n",
       "    </tr>\n",
       "    <tr>\n",
       "      <th>8</th>\n",
       "      <td>toga</td>\n",
       "      <td>12</td>\n",
       "      <td>male</td>\n",
       "      <td>Riyadh</td>\n",
       "      <td>Historical</td>\n",
       "    </tr>\n",
       "    <tr>\n",
       "      <th>9</th>\n",
       "      <td>olaojo ayo</td>\n",
       "      <td>12</td>\n",
       "      <td>male</td>\n",
       "      <td>Riyadh</td>\n",
       "      <td>Tourist</td>\n",
       "    </tr>\n",
       "    <tr>\n",
       "      <th>10</th>\n",
       "      <td>Victor Omuya</td>\n",
       "      <td>45</td>\n",
       "      <td>male</td>\n",
       "      <td>Alqassim</td>\n",
       "      <td>Tourist</td>\n",
       "    </tr>\n",
       "    <tr>\n",
       "      <th>11</th>\n",
       "      <td>olaojo ayo</td>\n",
       "      <td>45</td>\n",
       "      <td>male</td>\n",
       "      <td>Riyadh</td>\n",
       "      <td>Tourist</td>\n",
       "    </tr>\n",
       "    <tr>\n",
       "      <th>12</th>\n",
       "      <td>olaojo ayo</td>\n",
       "      <td>45</td>\n",
       "      <td>male</td>\n",
       "      <td>Riyadh</td>\n",
       "      <td>Islamic</td>\n",
       "    </tr>\n",
       "    <tr>\n",
       "      <th>13</th>\n",
       "      <td>Victor Omuya</td>\n",
       "      <td>45</td>\n",
       "      <td>male</td>\n",
       "      <td>Alqassim</td>\n",
       "      <td>Islamic</td>\n",
       "    </tr>\n",
       "    <tr>\n",
       "      <th>14</th>\n",
       "      <td>Victor Omuya</td>\n",
       "      <td>45</td>\n",
       "      <td>male</td>\n",
       "      <td>Alqassim</td>\n",
       "      <td>Tourist and Historical</td>\n",
       "    </tr>\n",
       "    <tr>\n",
       "      <th>15</th>\n",
       "      <td>olaojo ayo</td>\n",
       "      <td>45</td>\n",
       "      <td>male</td>\n",
       "      <td>Riyadh</td>\n",
       "      <td>Islamic</td>\n",
       "    </tr>\n",
       "    <tr>\n",
       "      <th>16</th>\n",
       "      <td>olaojo ayo</td>\n",
       "      <td>45</td>\n",
       "      <td>male</td>\n",
       "      <td>Riyadh</td>\n",
       "      <td>Historical</td>\n",
       "    </tr>\n",
       "    <tr>\n",
       "      <th>17</th>\n",
       "      <td>toga</td>\n",
       "      <td>45</td>\n",
       "      <td>male</td>\n",
       "      <td>Riyadh</td>\n",
       "      <td>Tourist and Historical</td>\n",
       "    </tr>\n",
       "    <tr>\n",
       "      <th>18</th>\n",
       "      <td>Victor Omuya</td>\n",
       "      <td>23</td>\n",
       "      <td>male</td>\n",
       "      <td>Alqassim</td>\n",
       "      <td>Tourist</td>\n",
       "    </tr>\n",
       "    <tr>\n",
       "      <th>19</th>\n",
       "      <td>Victor Omuya</td>\n",
       "      <td>23</td>\n",
       "      <td>male</td>\n",
       "      <td>Alqassim</td>\n",
       "      <td>Tourist</td>\n",
       "    </tr>\n",
       "    <tr>\n",
       "      <th>20</th>\n",
       "      <td>sola</td>\n",
       "      <td>12</td>\n",
       "      <td>male</td>\n",
       "      <td>Riyadh</td>\n",
       "      <td>Tourist</td>\n",
       "    </tr>\n",
       "    <tr>\n",
       "      <th>21</th>\n",
       "      <td>olaojo ayo</td>\n",
       "      <td>45</td>\n",
       "      <td>male</td>\n",
       "      <td>Riyadh</td>\n",
       "      <td>Tourist</td>\n",
       "    </tr>\n",
       "    <tr>\n",
       "      <th>22</th>\n",
       "      <td>toga</td>\n",
       "      <td>12</td>\n",
       "      <td>male</td>\n",
       "      <td>Riyadh</td>\n",
       "      <td>Tourist</td>\n",
       "    </tr>\n",
       "    <tr>\n",
       "      <th>23</th>\n",
       "      <td>Victor Omuya</td>\n",
       "      <td>12</td>\n",
       "      <td>male</td>\n",
       "      <td>Alqassim</td>\n",
       "      <td>Tourist</td>\n",
       "    </tr>\n",
       "    <tr>\n",
       "      <th>24</th>\n",
       "      <td>toga</td>\n",
       "      <td>12</td>\n",
       "      <td>male</td>\n",
       "      <td>Riyadh</td>\n",
       "      <td>Tourist</td>\n",
       "    </tr>\n",
       "    <tr>\n",
       "      <th>25</th>\n",
       "      <td>toga</td>\n",
       "      <td>12</td>\n",
       "      <td>male</td>\n",
       "      <td>Riyadh</td>\n",
       "      <td>Tourist</td>\n",
       "    </tr>\n",
       "    <tr>\n",
       "      <th>26</th>\n",
       "      <td>Victor Omuya</td>\n",
       "      <td>45</td>\n",
       "      <td>male</td>\n",
       "      <td>Alqassim</td>\n",
       "      <td>Tourist</td>\n",
       "    </tr>\n",
       "    <tr>\n",
       "      <th>27</th>\n",
       "      <td>olaojo ayo</td>\n",
       "      <td>23</td>\n",
       "      <td>male</td>\n",
       "      <td>Riyadh</td>\n",
       "      <td>Tourist</td>\n",
       "    </tr>\n",
       "    <tr>\n",
       "      <th>28</th>\n",
       "      <td>Victor Omuya</td>\n",
       "      <td>45</td>\n",
       "      <td>male</td>\n",
       "      <td>Alqassim</td>\n",
       "      <td>Tourist</td>\n",
       "    </tr>\n",
       "    <tr>\n",
       "      <th>29</th>\n",
       "      <td>Victor Omuya</td>\n",
       "      <td>23</td>\n",
       "      <td>male</td>\n",
       "      <td>Alqassim</td>\n",
       "      <td>Tourist</td>\n",
       "    </tr>\n",
       "    <tr>\n",
       "      <th>30</th>\n",
       "      <td>olaojo ayo</td>\n",
       "      <td>23</td>\n",
       "      <td>male</td>\n",
       "      <td>Riyadh</td>\n",
       "      <td>Tourist</td>\n",
       "    </tr>\n",
       "    <tr>\n",
       "      <th>31</th>\n",
       "      <td>lolape</td>\n",
       "      <td>23</td>\n",
       "      <td>male</td>\n",
       "      <td>Riyadh</td>\n",
       "      <td>Tourist</td>\n",
       "    </tr>\n",
       "    <tr>\n",
       "      <th>32</th>\n",
       "      <td>lolape</td>\n",
       "      <td>23</td>\n",
       "      <td>male</td>\n",
       "      <td>Riyadh</td>\n",
       "      <td>Tourist</td>\n",
       "    </tr>\n",
       "    <tr>\n",
       "      <th>33</th>\n",
       "      <td>lolape</td>\n",
       "      <td>23</td>\n",
       "      <td>male</td>\n",
       "      <td>Riyadh</td>\n",
       "      <td>Tourist</td>\n",
       "    </tr>\n",
       "    <tr>\n",
       "      <th>34</th>\n",
       "      <td>lolape</td>\n",
       "      <td>23</td>\n",
       "      <td>male</td>\n",
       "      <td>Riyadh</td>\n",
       "      <td>Tourist</td>\n",
       "    </tr>\n",
       "    <tr>\n",
       "      <th>35</th>\n",
       "      <td>lolape</td>\n",
       "      <td>23</td>\n",
       "      <td>male</td>\n",
       "      <td>Riyadh</td>\n",
       "      <td>Tourist</td>\n",
       "    </tr>\n",
       "    <tr>\n",
       "      <th>36</th>\n",
       "      <td>lolape</td>\n",
       "      <td>23</td>\n",
       "      <td>male</td>\n",
       "      <td>Riyadh</td>\n",
       "      <td>Tourist</td>\n",
       "    </tr>\n",
       "    <tr>\n",
       "      <th>37</th>\n",
       "      <td>lolape</td>\n",
       "      <td>23</td>\n",
       "      <td>male</td>\n",
       "      <td>Riyadh</td>\n",
       "      <td>Tourist</td>\n",
       "    </tr>\n",
       "    <tr>\n",
       "      <th>38</th>\n",
       "      <td>lolape</td>\n",
       "      <td>23</td>\n",
       "      <td>male</td>\n",
       "      <td>Riyadh</td>\n",
       "      <td>Tourist</td>\n",
       "    </tr>\n",
       "    <tr>\n",
       "      <th>39</th>\n",
       "      <td>lolape</td>\n",
       "      <td>23</td>\n",
       "      <td>male</td>\n",
       "      <td>Riyadh</td>\n",
       "      <td>Tourist</td>\n",
       "    </tr>\n",
       "    <tr>\n",
       "      <th>40</th>\n",
       "      <td>lolape</td>\n",
       "      <td>23</td>\n",
       "      <td>male</td>\n",
       "      <td>Riyadh</td>\n",
       "      <td>Tourist</td>\n",
       "    </tr>\n",
       "    <tr>\n",
       "      <th>41</th>\n",
       "      <td>toga</td>\n",
       "      <td>45</td>\n",
       "      <td>male</td>\n",
       "      <td>Riyadh</td>\n",
       "      <td>Historical</td>\n",
       "    </tr>\n",
       "    <tr>\n",
       "      <th>42</th>\n",
       "      <td>toga</td>\n",
       "      <td>45</td>\n",
       "      <td>male</td>\n",
       "      <td>Riyadh</td>\n",
       "      <td>Tourist and Historical</td>\n",
       "    </tr>\n",
       "    <tr>\n",
       "      <th>43</th>\n",
       "      <td>toga</td>\n",
       "      <td>45</td>\n",
       "      <td>male</td>\n",
       "      <td>Riyadh</td>\n",
       "      <td>Islamic</td>\n",
       "    </tr>\n",
       "    <tr>\n",
       "      <th>44</th>\n",
       "      <td>toga</td>\n",
       "      <td>45</td>\n",
       "      <td>male</td>\n",
       "      <td>Riyadh</td>\n",
       "      <td>Tourist</td>\n",
       "    </tr>\n",
       "    <tr>\n",
       "      <th>45</th>\n",
       "      <td>toga</td>\n",
       "      <td>12</td>\n",
       "      <td>male</td>\n",
       "      <td>Riyadh</td>\n",
       "      <td>Tourist</td>\n",
       "    </tr>\n",
       "  </tbody>\n",
       "</table>\n",
       "</div>"
      ],
      "text/plain": [
       "            name  age gender      city                interest\n",
       "0   Victor Omuya   45   male  Alqassim                 Tourist\n",
       "1   Victor Omuya   12   male  Alqassim                 Tourist\n",
       "2     olaojo ayo   12   male    Riyadh                 Tourist\n",
       "3           toga   45   male    Riyadh                 Tourist\n",
       "4     olaojo ayo   12   male    Riyadh                 Tourist\n",
       "5   Victor Omuya   12   male  Alqassim                 Tourist\n",
       "6     olaojo ayo   23   male    Riyadh                 Tourist\n",
       "7   Victor Omuya   23   male    Aljowf                 Tourist\n",
       "8           toga   12   male    Riyadh              Historical\n",
       "9     olaojo ayo   12   male    Riyadh                 Tourist\n",
       "10  Victor Omuya   45   male  Alqassim                 Tourist\n",
       "11    olaojo ayo   45   male    Riyadh                 Tourist\n",
       "12    olaojo ayo   45   male    Riyadh                 Islamic\n",
       "13  Victor Omuya   45   male  Alqassim                 Islamic\n",
       "14  Victor Omuya   45   male  Alqassim  Tourist and Historical\n",
       "15    olaojo ayo   45   male    Riyadh                 Islamic\n",
       "16    olaojo ayo   45   male    Riyadh              Historical\n",
       "17          toga   45   male    Riyadh  Tourist and Historical\n",
       "18  Victor Omuya   23   male  Alqassim                 Tourist\n",
       "19  Victor Omuya   23   male  Alqassim                 Tourist\n",
       "20          sola   12   male    Riyadh                 Tourist\n",
       "21    olaojo ayo   45   male    Riyadh                 Tourist\n",
       "22          toga   12   male    Riyadh                 Tourist\n",
       "23  Victor Omuya   12   male  Alqassim                 Tourist\n",
       "24          toga   12   male    Riyadh                 Tourist\n",
       "25          toga   12   male    Riyadh                 Tourist\n",
       "26  Victor Omuya   45   male  Alqassim                 Tourist\n",
       "27    olaojo ayo   23   male    Riyadh                 Tourist\n",
       "28  Victor Omuya   45   male  Alqassim                 Tourist\n",
       "29  Victor Omuya   23   male  Alqassim                 Tourist\n",
       "30    olaojo ayo   23   male    Riyadh                 Tourist\n",
       "31        lolape   23   male    Riyadh                 Tourist\n",
       "32        lolape   23   male    Riyadh                 Tourist\n",
       "33        lolape   23   male    Riyadh                 Tourist\n",
       "34        lolape   23   male    Riyadh                 Tourist\n",
       "35        lolape   23   male    Riyadh                 Tourist\n",
       "36        lolape   23   male    Riyadh                 Tourist\n",
       "37        lolape   23   male    Riyadh                 Tourist\n",
       "38        lolape   23   male    Riyadh                 Tourist\n",
       "39        lolape   23   male    Riyadh                 Tourist\n",
       "40        lolape   23   male    Riyadh                 Tourist\n",
       "41          toga   45   male    Riyadh              Historical\n",
       "42          toga   45   male    Riyadh  Tourist and Historical\n",
       "43          toga   45   male    Riyadh                 Islamic\n",
       "44          toga   45   male    Riyadh                 Tourist\n",
       "45          toga   12   male    Riyadh                 Tourist"
      ]
     },
     "execution_count": 1,
     "metadata": {},
     "output_type": "execute_result"
    }
   ],
   "source": [
    "##LOGIN\n",
    "import pandas as pd\n",
    "log= pd.read_csv(r\"tourist.csv\")\n",
    "log"
   ]
  },
  {
   "cell_type": "code",
   "execution_count": 6,
   "metadata": {},
   "outputs": [
    {
     "name": "stdout",
     "output_type": "stream",
     "text": [
      "enter nametoga\n"
     ]
    }
   ],
   "source": [
    "name = str(input(\"enter name\"))"
   ]
  },
  {
   "cell_type": "code",
   "execution_count": 8,
   "metadata": {},
   "outputs": [],
   "source": [
    "dataf = log.loc[log['name'] == name]"
   ]
  },
  {
   "cell_type": "code",
   "execution_count": 16,
   "metadata": {},
   "outputs": [
    {
     "data": {
      "text/plain": [
       "'toga'"
      ]
     },
     "execution_count": 16,
     "metadata": {},
     "output_type": "execute_result"
    }
   ],
   "source": [
    "name = dataf['name'].values[0]\n",
    "name"
   ]
  },
  {
   "cell_type": "code",
   "execution_count": 18,
   "metadata": {},
   "outputs": [
    {
     "data": {
      "text/plain": [
       "'Tourist'"
      ]
     },
     "execution_count": 18,
     "metadata": {},
     "output_type": "execute_result"
    }
   ],
   "source": [
    "interest = dataf['interest'].values[0]\n",
    "interest"
   ]
  },
  {
   "cell_type": "code",
   "execution_count": null,
   "metadata": {},
   "outputs": [],
   "source": []
  }
 ],
 "metadata": {
  "kernelspec": {
   "display_name": "Python 3 (ipykernel)",
   "language": "python",
   "name": "python3"
  },
  "language_info": {
   "codemirror_mode": {
    "name": "ipython",
    "version": 3
   },
   "file_extension": ".py",
   "mimetype": "text/x-python",
   "name": "python",
   "nbconvert_exporter": "python",
   "pygments_lexer": "ipython3",
   "version": "3.9.7"
  }
 },
 "nbformat": 4,
 "nbformat_minor": 2
}
