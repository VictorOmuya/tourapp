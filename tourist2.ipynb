{
 "cells": [
  {
   "cell_type": "code",
   "execution_count": 22,
   "metadata": {},
   "outputs": [],
   "source": [
    "import numpy as np\n",
    "import pandas as pd\n",
    "import seaborn as sns\n",
    "import matplotlib.pyplot as plt\n",
    "from sklearn.feature_extraction.text import TfidfVectorizer\n",
    "from sklearn.metrics.pairwise import cosine_similarity\n",
    "from os import listdir\n",
    "from os.path import isfile, join\n",
    "from sklearn.model_selection import train_test_split"
   ]
  },
  {
   "cell_type": "code",
   "execution_count": 23,
   "metadata": {},
   "outputs": [
    {
     "data": {
      "text/html": [
       "<div>\n",
       "<style scoped>\n",
       "    .dataframe tbody tr th:only-of-type {\n",
       "        vertical-align: middle;\n",
       "    }\n",
       "\n",
       "    .dataframe tbody tr th {\n",
       "        vertical-align: top;\n",
       "    }\n",
       "\n",
       "    .dataframe thead th {\n",
       "        text-align: right;\n",
       "    }\n",
       "</style>\n",
       "<table border=\"1\" class=\"dataframe\">\n",
       "  <thead>\n",
       "    <tr style=\"text-align: right;\">\n",
       "      <th></th>\n",
       "      <th>Gender</th>\n",
       "      <th>Married</th>\n",
       "      <th>Age Category</th>\n",
       "      <th>Ethnicity</th>\n",
       "      <th>Degree</th>\n",
       "      <th>Choose option that best describe your career path</th>\n",
       "      <th>Choose your preferred tourism category</th>\n",
       "    </tr>\n",
       "  </thead>\n",
       "  <tbody>\n",
       "    <tr>\n",
       "      <th>0</th>\n",
       "      <td>Female</td>\n",
       "      <td>No</td>\n",
       "      <td>29 - 35</td>\n",
       "      <td>Black  or  African American</td>\n",
       "      <td>Bachelor</td>\n",
       "      <td>Arts, Design, Entertainment, Sports, and Media</td>\n",
       "      <td>Historical</td>\n",
       "    </tr>\n",
       "    <tr>\n",
       "      <th>1</th>\n",
       "      <td>Male</td>\n",
       "      <td>No</td>\n",
       "      <td>23 - 28</td>\n",
       "      <td>Black  or  African American</td>\n",
       "      <td>Master</td>\n",
       "      <td>Life, Physical and Social Science</td>\n",
       "      <td>Tourist</td>\n",
       "    </tr>\n",
       "    <tr>\n",
       "      <th>2</th>\n",
       "      <td>Male</td>\n",
       "      <td>Yes</td>\n",
       "      <td>23 - 28</td>\n",
       "      <td>Black  or  African American</td>\n",
       "      <td>Diploma</td>\n",
       "      <td>Computer and Mathematical</td>\n",
       "      <td>Tourist</td>\n",
       "    </tr>\n",
       "    <tr>\n",
       "      <th>3</th>\n",
       "      <td>Male</td>\n",
       "      <td>No</td>\n",
       "      <td>23 - 28</td>\n",
       "      <td>Middle Eastern</td>\n",
       "      <td>Bachelor</td>\n",
       "      <td>Life, Physical and Social Science</td>\n",
       "      <td>Historical</td>\n",
       "    </tr>\n",
       "    <tr>\n",
       "      <th>4</th>\n",
       "      <td>Female</td>\n",
       "      <td>Yes</td>\n",
       "      <td>23 - 28</td>\n",
       "      <td>Native Hawaiin</td>\n",
       "      <td>Diploma</td>\n",
       "      <td>Building and Grounds Cleaning and Maintenance</td>\n",
       "      <td>Historical and Islamic</td>\n",
       "    </tr>\n",
       "  </tbody>\n",
       "</table>\n",
       "</div>"
      ],
      "text/plain": [
       "   Gender Married Age Category                    Ethnicity    Degree  \\\n",
       "0  Female      No      29 - 35  Black  or  African American  Bachelor   \n",
       "1    Male      No      23 - 28  Black  or  African American    Master   \n",
       "2    Male     Yes      23 - 28  Black  or  African American   Diploma   \n",
       "3    Male      No      23 - 28               Middle Eastern  Bachelor   \n",
       "4  Female     Yes      23 - 28               Native Hawaiin   Diploma   \n",
       "\n",
       "  Choose option that best describe your career path  \\\n",
       "0    Arts, Design, Entertainment, Sports, and Media   \n",
       "1                 Life, Physical and Social Science   \n",
       "2                         Computer and Mathematical   \n",
       "3                 Life, Physical and Social Science   \n",
       "4     Building and Grounds Cleaning and Maintenance   \n",
       "\n",
       "  Choose your preferred tourism category  \n",
       "0                             Historical  \n",
       "1                                Tourist  \n",
       "2                                Tourist  \n",
       "3                             Historical  \n",
       "4                 Historical and Islamic  "
      ]
     },
     "execution_count": 23,
     "metadata": {},
     "output_type": "execute_result"
    }
   ],
   "source": [
    "data = pd.read_csv(r\"touristData.csv\")\n",
    "data.head()"
   ]
  },
  {
   "cell_type": "code",
   "execution_count": 24,
   "metadata": {},
   "outputs": [
    {
     "name": "stdout",
     "output_type": "stream",
     "text": [
      "<class 'pandas.core.frame.DataFrame'>\n",
      "RangeIndex: 103 entries, 0 to 102\n",
      "Data columns (total 7 columns):\n",
      " #   Column                                             Non-Null Count  Dtype \n",
      "---  ------                                             --------------  ----- \n",
      " 0   Gender                                             103 non-null    object\n",
      " 1   Married                                            103 non-null    object\n",
      " 2   Age Category                                       103 non-null    object\n",
      " 3   Ethnicity                                          103 non-null    object\n",
      " 4   Degree                                             103 non-null    object\n",
      " 5   Choose option that best describe your career path  99 non-null     object\n",
      " 6   Choose your preferred tourism category             103 non-null    object\n",
      "dtypes: object(7)\n",
      "memory usage: 5.8+ KB\n"
     ]
    }
   ],
   "source": [
    "data.info()"
   ]
  },
  {
   "cell_type": "code",
   "execution_count": 25,
   "metadata": {},
   "outputs": [],
   "source": [
    "data['career path'] = data['Choose option that best describe your career path']"
   ]
  },
  {
   "cell_type": "code",
   "execution_count": 26,
   "metadata": {},
   "outputs": [],
   "source": [
    "data['category'] = data['Choose your preferred tourism category']"
   ]
  },
  {
   "cell_type": "code",
   "execution_count": 27,
   "metadata": {},
   "outputs": [],
   "source": [
    "data.drop(['Choose option that best describe your career path','Choose your preferred tourism category'], axis =1, inplace =True)"
   ]
  },
  {
   "cell_type": "code",
   "execution_count": null,
   "metadata": {},
   "outputs": [],
   "source": []
  },
  {
   "cell_type": "code",
   "execution_count": 28,
   "metadata": {},
   "outputs": [
    {
     "data": {
      "text/plain": [
       "array(['Black  or  African American', 'Middle Eastern', 'Native Hawaiin',\n",
       "       'Hispanic or Latino', 'White', 'American Indian or  Alaska Native',\n",
       "       'Ethnicity'], dtype=object)"
      ]
     },
     "execution_count": 28,
     "metadata": {},
     "output_type": "execute_result"
    }
   ],
   "source": [
    "data['career path'].fillna('Arts, Design, Entertainment, Sports, and Media', inplace=True)\n",
    "data['Ethnicity'].unique()"
   ]
  },
  {
   "cell_type": "code",
   "execution_count": 29,
   "metadata": {},
   "outputs": [],
   "source": [
    "data['Ethnicity'].replace('Black  or  African American', 'Black or African American', inplace = True)\n",
    "data['Ethnicity'].replace('American Indian or  Alaska Native', 'American Indian or Alaska Native', inplace =True)\n",
    "data['career path'].replace('Hospitality', 'Food Preparation and Serving Related', inplace =True)"
   ]
  },
  {
   "cell_type": "code",
   "execution_count": 30,
   "metadata": {},
   "outputs": [
    {
     "data": {
      "text/plain": [
       "array(['Arts, Design, Entertainment, Sports, and Media',\n",
       "       'Life, Physical and Social Science', 'Computer and Mathematical',\n",
       "       'Building and Grounds Cleaning and Maintenance',\n",
       "       'Architecture and Engineering',\n",
       "       'Food Preparation and Serving Related',\n",
       "       'Farming, Fishing, and Forestry',\n",
       "       'Educational Instruction and Library',\n",
       "       'Healthcare Practitioners and Technical', 'Sales and Related',\n",
       "       'Legal', 'Choose option that best describe your career path'],\n",
       "      dtype=object)"
      ]
     },
     "execution_count": 30,
     "metadata": {},
     "output_type": "execute_result"
    }
   ],
   "source": [
    "data['career path'].unique()"
   ]
  },
  {
   "cell_type": "code",
   "execution_count": null,
   "metadata": {},
   "outputs": [],
   "source": []
  },
  {
   "cell_type": "code",
   "execution_count": null,
   "metadata": {},
   "outputs": [],
   "source": []
  },
  {
   "cell_type": "code",
   "execution_count": null,
   "metadata": {},
   "outputs": [],
   "source": []
  },
  {
   "cell_type": "code",
   "execution_count": 31,
   "metadata": {},
   "outputs": [],
   "source": [
    "def catid(x):\n",
    "    if x == 'Historical':\n",
    "        return 1\n",
    "    elif x == 'category':\n",
    "        return 0\n",
    "    elif x == 'Tourist':\n",
    "        return 0\n",
    "    elif x == 'Islamic':\n",
    "        return 2\n",
    "    elif x == 'Historical and Islamic':\n",
    "        return 3\n",
    "    elif x == 'Choose your preferred tourism category':\n",
    "        return 0\n",
    "\n",
    "def gender(x):\n",
    "    if x == 'Male':\n",
    "        return 0\n",
    "    elif x == 'Female':\n",
    "        return 1\n",
    "    elif x == 'Unspecified':\n",
    "        return 2\n",
    "    elif x == 'Gender':\n",
    "        return 3\n",
    "    \n",
    "def age(x):\n",
    "    if x == '5 - 10':\n",
    "        return 0\n",
    "    elif x == '11 - 17':\n",
    "        return 1\n",
    "    elif x == '18 - 22':\n",
    "        return 2\n",
    "    elif x == '23 - 28':\n",
    "        return 3\n",
    "    elif x == '29 - 35':\n",
    "        return 4\n",
    "    elif x == '36 - 45':\n",
    "        return 5\n",
    "    elif x == '49 - 55':\n",
    "        return 6\n",
    "    elif x == '55 - older':\n",
    "        return 7\n",
    "    elif x == 'Age Category':\n",
    "        return 0\n",
    "\n",
    "data['categoryid'] = data['category'].apply(catid)"
   ]
  },
  {
   "cell_type": "code",
   "execution_count": 32,
   "metadata": {},
   "outputs": [],
   "source": [
    "def ethnic(x):\n",
    "    if x == 'American Indian or Alaska Native':\n",
    "        return 0\n",
    "    elif x == 'Asian':\n",
    "        return 1\n",
    "    elif x == 'Black or African American':\n",
    "        return 2\n",
    "    elif x == 'Hispanic or Latino':\n",
    "        return 3\n",
    "    elif x == 'Native Hawaiin':\n",
    "        return 4\n",
    "    elif x == 'White':\n",
    "        return 5\n",
    "    elif x == 'Middle Eastern':\n",
    "        return 6\n",
    "    elif x == 'Ethnicity':\n",
    "        return 0\n",
    "\n",
    "def degree(x):\n",
    "    \n",
    "    if x == 'Uneducated':\n",
    "        return 0\n",
    "    elif x == 'Secondary':\n",
    "        return 1\n",
    "    elif x == 'Diploma':\n",
    "        return 2\n",
    "    elif x == 'Bachelor':\n",
    "        return 3\n",
    "    elif x == 'Master':\n",
    "        return 4\n",
    "    elif x == 'Doctorate':\n",
    "        return 5\n",
    "    elif x == 'Degree':\n",
    "        return 0\n",
    "    \n",
    "def status(x):\n",
    "    if x == 'No':\n",
    "        return 0\n",
    "    elif x == 'Yes':\n",
    "        return 1\n",
    "    elif x == 'Married':\n",
    "        return 0"
   ]
  },
  {
   "cell_type": "code",
   "execution_count": 33,
   "metadata": {},
   "outputs": [],
   "source": [
    "def job(x):\n",
    "    if x == 'Business and Financial Occupations':\n",
    "        return 0\n",
    "    elif x == 'Computer and Mathematical':\n",
    "        return 1\n",
    "    elif x == 'Architecture and Engineering':\n",
    "        return 2\n",
    "    elif x == 'Life, Physical and Social Science':\n",
    "        return 3\n",
    "    elif x == 'Community and Social Service':\n",
    "        return 4\n",
    "    elif x == 'Legal':\n",
    "        return 5\n",
    "    elif x == 'Educational Instruction and Library':\n",
    "        return 6\n",
    "    elif x == 'Arts, Design, Entertainment, Sports, and Media':\n",
    "        return 7\n",
    "    elif x == 'Healthcare Practitioners and Technical':\n",
    "        return 8\n",
    "    elif x == 'Food Preparation and Serving Related':\n",
    "        return 9\n",
    "    elif x == 'Building and Grounds Cleaning and Maintenance':\n",
    "        return 10\n",
    "    elif x == 'Personal Care and Service':\n",
    "        return 11\n",
    "    elif x == 'Sales and Related':\n",
    "        return 12\n",
    "    elif x == 'Office and Administrative Support':\n",
    "        return 13\n",
    "    elif x == 'Farming, Fishing, and Forestry':\n",
    "        return 14\n",
    "    elif x == 'Construction and Extraction':\n",
    "        return 15\n",
    "    elif x == 'Installation, Maintenance, and Repair':\n",
    "        return 16\n",
    "    elif x == 'Transportation and Material Moving':\n",
    "        return 17\n",
    "    elif x == 'Choose option that best describe your career path':\n",
    "        return 0"
   ]
  },
  {
   "cell_type": "code",
   "execution_count": 34,
   "metadata": {},
   "outputs": [],
   "source": [
    "data['Age'] = data['Age Category'].apply(age)\n",
    "data['Sex'] = data['Gender'].apply(gender)\n",
    "data['Ethnic'] = data['Ethnicity'].apply(ethnic)\n",
    "data['Qualification'] = data['Degree'].apply(degree)\n",
    "data['career'] = data['career path'].apply(job)\n",
    "data['Status'] = data['Married'].apply(status)"
   ]
  },
  {
   "cell_type": "code",
   "execution_count": 35,
   "metadata": {},
   "outputs": [],
   "source": [
    "data.drop(['Age Category', 'Gender', 'Ethnicity', 'Degree', 'career path', 'category','Married'], axis=1, inplace =True)"
   ]
  },
  {
   "cell_type": "code",
   "execution_count": 36,
   "metadata": {},
   "outputs": [
    {
     "data": {
      "text/html": [
       "<div>\n",
       "<style scoped>\n",
       "    .dataframe tbody tr th:only-of-type {\n",
       "        vertical-align: middle;\n",
       "    }\n",
       "\n",
       "    .dataframe tbody tr th {\n",
       "        vertical-align: top;\n",
       "    }\n",
       "\n",
       "    .dataframe thead th {\n",
       "        text-align: right;\n",
       "    }\n",
       "</style>\n",
       "<table border=\"1\" class=\"dataframe\">\n",
       "  <thead>\n",
       "    <tr style=\"text-align: right;\">\n",
       "      <th></th>\n",
       "      <th>categoryid</th>\n",
       "      <th>Age</th>\n",
       "      <th>Sex</th>\n",
       "      <th>Ethnic</th>\n",
       "      <th>Qualification</th>\n",
       "      <th>career</th>\n",
       "      <th>Status</th>\n",
       "    </tr>\n",
       "  </thead>\n",
       "  <tbody>\n",
       "    <tr>\n",
       "      <th>0</th>\n",
       "      <td>1</td>\n",
       "      <td>4</td>\n",
       "      <td>1</td>\n",
       "      <td>2</td>\n",
       "      <td>3</td>\n",
       "      <td>7</td>\n",
       "      <td>0</td>\n",
       "    </tr>\n",
       "    <tr>\n",
       "      <th>1</th>\n",
       "      <td>0</td>\n",
       "      <td>3</td>\n",
       "      <td>0</td>\n",
       "      <td>2</td>\n",
       "      <td>4</td>\n",
       "      <td>3</td>\n",
       "      <td>0</td>\n",
       "    </tr>\n",
       "  </tbody>\n",
       "</table>\n",
       "</div>"
      ],
      "text/plain": [
       "   categoryid  Age  Sex  Ethnic  Qualification  career  Status\n",
       "0           1    4    1       2              3       7       0\n",
       "1           0    3    0       2              4       3       0"
      ]
     },
     "execution_count": 36,
     "metadata": {},
     "output_type": "execute_result"
    }
   ],
   "source": [
    "data.head(2)"
   ]
  },
  {
   "cell_type": "code",
   "execution_count": null,
   "metadata": {},
   "outputs": [],
   "source": []
  },
  {
   "cell_type": "code",
   "execution_count": 37,
   "metadata": {},
   "outputs": [],
   "source": [
    "y  = data['categoryid']"
   ]
  },
  {
   "cell_type": "code",
   "execution_count": 38,
   "metadata": {},
   "outputs": [
    {
     "data": {
      "text/html": [
       "<div>\n",
       "<style scoped>\n",
       "    .dataframe tbody tr th:only-of-type {\n",
       "        vertical-align: middle;\n",
       "    }\n",
       "\n",
       "    .dataframe tbody tr th {\n",
       "        vertical-align: top;\n",
       "    }\n",
       "\n",
       "    .dataframe thead th {\n",
       "        text-align: right;\n",
       "    }\n",
       "</style>\n",
       "<table border=\"1\" class=\"dataframe\">\n",
       "  <thead>\n",
       "    <tr style=\"text-align: right;\">\n",
       "      <th></th>\n",
       "      <th>Age</th>\n",
       "      <th>Sex</th>\n",
       "      <th>Ethnic</th>\n",
       "      <th>Qualification</th>\n",
       "      <th>career</th>\n",
       "      <th>Status</th>\n",
       "    </tr>\n",
       "  </thead>\n",
       "  <tbody>\n",
       "    <tr>\n",
       "      <th>0</th>\n",
       "      <td>4</td>\n",
       "      <td>1</td>\n",
       "      <td>2</td>\n",
       "      <td>3</td>\n",
       "      <td>7</td>\n",
       "      <td>0</td>\n",
       "    </tr>\n",
       "    <tr>\n",
       "      <th>1</th>\n",
       "      <td>3</td>\n",
       "      <td>0</td>\n",
       "      <td>2</td>\n",
       "      <td>4</td>\n",
       "      <td>3</td>\n",
       "      <td>0</td>\n",
       "    </tr>\n",
       "  </tbody>\n",
       "</table>\n",
       "</div>"
      ],
      "text/plain": [
       "   Age  Sex  Ethnic  Qualification  career  Status\n",
       "0    4    1       2              3       7       0\n",
       "1    3    0       2              4       3       0"
      ]
     },
     "execution_count": 38,
     "metadata": {},
     "output_type": "execute_result"
    }
   ],
   "source": [
    "x = data.drop(['categoryid'], axis = 1)\n",
    "x.head(2)"
   ]
  },
  {
   "cell_type": "code",
   "execution_count": 39,
   "metadata": {},
   "outputs": [],
   "source": [
    "saved = x.to_csv('test.csv')"
   ]
  },
  {
   "cell_type": "code",
   "execution_count": 40,
   "metadata": {},
   "outputs": [],
   "source": [
    "#X = pd.get_dummies(x, columns = ['Age','Sex', 'Ethnic', 'Qualification', 'Status'])"
   ]
  },
  {
   "cell_type": "code",
   "execution_count": 41,
   "metadata": {},
   "outputs": [],
   "source": [
    "#from sklearn.preprocessing import MinMaxScaler\n",
    "#sc = MinMaxScaler()\n",
    "#Xsc = sc.fit_transform(x)\n",
    "#x.columns"
   ]
  },
  {
   "cell_type": "code",
   "execution_count": 42,
   "metadata": {},
   "outputs": [],
   "source": [
    "# = pd.DataFrame(Xsc, columns=['Age', 'Sex', 'Ethnic', 'Qualification', 'career', 'Status'])"
   ]
  },
  {
   "cell_type": "code",
   "execution_count": null,
   "metadata": {},
   "outputs": [],
   "source": []
  },
  {
   "cell_type": "code",
   "execution_count": null,
   "metadata": {},
   "outputs": [],
   "source": []
  },
  {
   "cell_type": "code",
   "execution_count": null,
   "metadata": {},
   "outputs": [],
   "source": []
  },
  {
   "cell_type": "code",
   "execution_count": 43,
   "metadata": {},
   "outputs": [],
   "source": [
    "xtrain, xtest, ytrain, ytest = train_test_split(x, y, test_size = 1/4, random_state = 2)"
   ]
  },
  {
   "cell_type": "code",
   "execution_count": 44,
   "metadata": {},
   "outputs": [],
   "source": [
    "from sklearn.linear_model import LinearRegression\n",
    "from sklearn.metrics import mean_squared_error, r2_score\n",
    "import pickle"
   ]
  },
  {
   "cell_type": "code",
   "execution_count": 45,
   "metadata": {},
   "outputs": [],
   "source": [
    "from pandas.plotting import scatter_matrix\n",
    "from sklearn import model_selection\n",
    "from sklearn import metrics\n",
    "from sklearn.metrics import classification_report\n",
    "from sklearn.metrics import confusion_matrix\n",
    "from sklearn.metrics import accuracy_score\n",
    "from sklearn.linear_model import LogisticRegression\n",
    "from sklearn.tree import DecisionTreeClassifier\n",
    "from sklearn.neighbors import KNeighborsClassifier\n",
    "from sklearn.discriminant_analysis import LinearDiscriminantAnalysis\n",
    "from sklearn.naive_bayes import GaussianNB\n",
    "from sklearn.svm import SVC\n",
    "from sklearn.ensemble import RandomForestClassifier\n",
    "from sklearn.ensemble import GradientBoostingClassifier"
   ]
  },
  {
   "cell_type": "code",
   "execution_count": 46,
   "metadata": {},
   "outputs": [],
   "source": [
    "classifier = []\n",
    "classifier.append((\"LogisticReg\", LogisticRegression(solver='liblinear',multi_class='ovr')))\n",
    "classifier.append((\"DecisionTree\", DecisionTreeClassifier(criterion ='entropy')))\n",
    "classifier.append((\"KNN\", KNeighborsClassifier()))\n",
    "classifier.append((\"KernelSVM\", SVC(gamma='auto')))\n",
    "classifier.append((\"NaiveBayes\", GaussianNB()))\n",
    "classifier.append((\"RandomForest\", RandomForestClassifier()))"
   ]
  },
  {
   "cell_type": "code",
   "execution_count": 48,
   "metadata": {},
   "outputs": [
    {
     "name": "stdout",
     "output_type": "stream",
     "text": [
      "LogisticReg: 0.576786 (0.212200)\n",
      "DecisionTree: 0.973214 (0.053720)\n",
      "KNN: 0.842857 (0.128968)\n",
      "KernelSVM: 0.973214 (0.053720)\n",
      "NaiveBayes: 0.596429 (0.122735)\n",
      "RandomForest: 0.973214 (0.053720)\n"
     ]
    }
   ],
   "source": [
    "seed = 0\n",
    "results = []\n",
    "names = []\n",
    "for name, model in classifier:\n",
    "    kfold = model_selection.KFold(n_splits=10)\n",
    "    cv_results = model_selection.cross_val_score(model, xtrain, ytrain,cv=kfold)\n",
    "    results.append(cv_results)\n",
    "    names.append(name)\n",
    "    msg = \"%s: %f (%f)\" % (name, cv_results.mean(), cv_results.std())\n",
    "    print(msg)"
   ]
  },
  {
   "cell_type": "code",
   "execution_count": 54,
   "metadata": {},
   "outputs": [
    {
     "data": {
      "text/plain": [
       "DecisionTreeClassifier()"
      ]
     },
     "execution_count": 54,
     "metadata": {},
     "output_type": "execute_result"
    }
   ],
   "source": [
    "model = DecisionTreeClassifier()\n",
    "model.fit(xtrain, ytrain)"
   ]
  },
  {
   "cell_type": "code",
   "execution_count": 55,
   "metadata": {},
   "outputs": [
    {
     "data": {
      "text/plain": [
       "array([2, 0, 1, 0, 3, 2, 0, 3, 2, 2, 0, 0, 1, 1, 2, 2, 1, 1, 1, 2, 1, 2,\n",
       "       1, 1, 2, 2], dtype=int64)"
      ]
     },
     "execution_count": 55,
     "metadata": {},
     "output_type": "execute_result"
    }
   ],
   "source": [
    "ypred = model.predict(xtest)\n",
    "ypred"
   ]
  },
  {
   "cell_type": "code",
   "execution_count": 56,
   "metadata": {},
   "outputs": [
    {
     "name": "stdout",
     "output_type": "stream",
     "text": [
      "R2 score : 0.84\n"
     ]
    }
   ],
   "source": [
    "print(\"R2 score : %.2f\" % r2_score(ytest,ypred))"
   ]
  },
  {
   "cell_type": "code",
   "execution_count": 57,
   "metadata": {},
   "outputs": [
    {
     "name": "stdout",
     "output_type": "stream",
     "text": [
      "Mean squared error: 0.12\n"
     ]
    }
   ],
   "source": [
    "print(\"Mean squared error: %.2f\" % mean_squared_error(ytest,ypred))"
   ]
  },
  {
   "cell_type": "code",
   "execution_count": 58,
   "metadata": {},
   "outputs": [],
   "source": [
    "filename = 'tourist_model1.sav'\n",
    "pickle.dump(model, open(filename, 'wb'))"
   ]
  },
  {
   "cell_type": "code",
   "execution_count": 1,
   "metadata": {},
   "outputs": [],
   "source": [
    "import sklearn"
   ]
  },
  {
   "cell_type": "code",
   "execution_count": 6,
   "metadata": {},
   "outputs": [
    {
     "data": {
      "text/plain": [
       "'0.21.2'"
      ]
     },
     "execution_count": 6,
     "metadata": {},
     "output_type": "execute_result"
    }
   ],
   "source": [
    "sklearn.__version__"
   ]
  },
  {
   "cell_type": "code",
   "execution_count": null,
   "metadata": {},
   "outputs": [],
   "source": []
  }
 ],
 "metadata": {
  "kernelspec": {
   "display_name": "Python 3 (ipykernel)",
   "language": "python",
   "name": "python3"
  },
  "language_info": {
   "codemirror_mode": {
    "name": "ipython",
    "version": 3
   },
   "file_extension": ".py",
   "mimetype": "text/x-python",
   "name": "python",
   "nbconvert_exporter": "python",
   "pygments_lexer": "ipython3",
   "version": "3.9.7"
  }
 },
 "nbformat": 4,
 "nbformat_minor": 2
}
